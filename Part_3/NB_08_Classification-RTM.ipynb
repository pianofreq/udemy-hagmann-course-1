{
 "cells": [
  {
   "cell_type": "code",
   "execution_count": 9,
   "id": "51dd721f",
   "metadata": {},
   "outputs": [],
   "source": [
    "import pandas as pd\n",
    "import numpy as np\n",
    "import matplotlib.pyplot as plt\n",
    "import yfinance as yf\n",
    "plt.style.use('seaborn')"
   ]
  },
  {
   "cell_type": "code",
   "execution_count": 6,
   "id": "306a448f",
   "metadata": {},
   "outputs": [],
   "source": [
    "class MLBacktester():\n",
    "    \n",
    "    def __init__(self, symbol, start, end, train, lags, tc):\n",
    "        self.symbol = symbol\n",
    "        self.start = start\n",
    "        self.end = end\n",
    "        self.train = train\n",
    "        self.lags = lags\n",
    "        self.tc = tc\n",
    "        \n",
    "    def __repr__(self):\n",
    "        return \"MLBacktester(symbol = {}, start = {}, end = {}, train = {}, lags = {}, tc = {})\"\\\n",
    "        .format(self.symbol, self.start, self.end, self. train, self.lags, self.tc)\n",
    "    \n",
    "    def "
   ]
  },
  {
   "cell_type": "code",
   "execution_count": 7,
   "id": "37c6ef1b",
   "metadata": {},
   "outputs": [],
   "source": [
    "spread = 1.5\n",
    "pips = 0.0001\n",
    "ml = MLBacktester(\"EURUSD\", '2018-01-01', '2020-12-31', 0.7, 5, spread/2*pips)"
   ]
  },
  {
   "cell_type": "code",
   "execution_count": 8,
   "id": "53fc4393",
   "metadata": {},
   "outputs": [
    {
     "data": {
      "text/plain": [
       "MLBacktester(symbol = EURUSD, start = 2018-01-01, end = 2020-12-31, train = 0.7, lags = 5, tc = 7.500000000000001e-05)"
      ]
     },
     "execution_count": 8,
     "metadata": {},
     "output_type": "execute_result"
    }
   ],
   "source": [
    "ml"
   ]
  }
 ],
 "metadata": {
  "kernelspec": {
   "display_name": "Python 3 (ipykernel)",
   "language": "python",
   "name": "python3"
  },
  "language_info": {
   "codemirror_mode": {
    "name": "ipython",
    "version": 3
   },
   "file_extension": ".py",
   "mimetype": "text/x-python",
   "name": "python",
   "nbconvert_exporter": "python",
   "pygments_lexer": "ipython3",
   "version": "3.7.13"
  }
 },
 "nbformat": 4,
 "nbformat_minor": 5
}
