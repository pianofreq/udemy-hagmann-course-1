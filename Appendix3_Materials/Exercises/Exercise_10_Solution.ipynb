{
 "cells": [
  {
   "cell_type": "markdown",
   "metadata": {},
   "source": [
    "# Coding Exercises (Appendix 3)"
   ]
  },
  {
   "cell_type": "markdown",
   "metadata": {},
   "source": [
    "Now, you will have the opportunity to analyze your own dataset. <br>\n",
    "__Follow the instructions__ and insert your code! You are either requested to \n",
    "- Complete the Code and __Fill in the gaps__. Gaps are marked with \"__---__\" and are __placeholders__ for your code fragment. \n",
    "- Write Code completely __on your own__ "
   ]
  },
  {
   "cell_type": "markdown",
   "metadata": {},
   "source": [
    "In some exercises, you will find questions that can only be answered, if your code is correct and returns the right output! The correct answer is provided below your coding cell. There you can check whether your code is correct."
   ]
  },
  {
   "cell_type": "markdown",
   "metadata": {},
   "source": [
    "If you need a hint, check the __Hints Section__ at the end of this Notebook. Exercises and Hints are numerated accordingly."
   ]
  },
  {
   "cell_type": "markdown",
   "metadata": {},
   "source": [
    "If you need some further help or if you want to check your code, you can also watch the __solutions videos__ or check the __solutions notebook__."
   ]
  },
  {
   "cell_type": "markdown",
   "metadata": {},
   "source": [
    "### Have Fun!"
   ]
  },
  {
   "cell_type": "markdown",
   "metadata": {},
   "source": [
    "--------------------------------------------------------------------------------------------------------------"
   ]
  },
  {
   "cell_type": "markdown",
   "metadata": {},
   "source": [
    "### Exercise 10: Indexing and Slicing DataFrames"
   ]
  },
  {
   "cell_type": "markdown",
   "metadata": {},
   "source": [
    "7. __Import Pandas__ (as pd), <br>\n",
    "__Import__ the Cars Dataset (__cars.csv__) and save the DataFrame in the variable __cars__ and<br>\n",
    "__Inspect/Print__ cars!"
   ]
  },
  {
   "cell_type": "code",
   "execution_count": null,
   "metadata": {},
   "outputs": [],
   "source": [
    "import pandas as pd"
   ]
  },
  {
   "cell_type": "code",
   "execution_count": null,
   "metadata": {},
   "outputs": [],
   "source": [
    "cars = pd.read_csv(\"cars.csv\")"
   ]
  },
  {
   "cell_type": "code",
   "execution_count": null,
   "metadata": {},
   "outputs": [],
   "source": [
    "cars"
   ]
  },
  {
   "cell_type": "markdown",
   "metadata": {},
   "source": [
    "8. Select the column __\"name\"__ with the __attribute__ (dot) notation! What is the __name__ of the car with __index label 393__?"
   ]
  },
  {
   "cell_type": "code",
   "execution_count": null,
   "metadata": {
    "scrolled": true
   },
   "outputs": [],
   "source": [
    "cars.name"
   ]
  },
  {
   "cell_type": "markdown",
   "metadata": {},
   "source": [
    "The name is ... ford mustang gl!"
   ]
  },
  {
   "cell_type": "markdown",
   "metadata": {},
   "source": [
    "9. Apply also the __second alternative__ to select the column __\"name\"__!"
   ]
  },
  {
   "cell_type": "code",
   "execution_count": null,
   "metadata": {
    "scrolled": true
   },
   "outputs": [],
   "source": [
    "cars[\"name\"]"
   ]
  },
  {
   "cell_type": "markdown",
   "metadata": {},
   "source": [
    "10. __Select__ the car/row at __index position 100__ with the __iloc__ operator (all columns)! How many __cylinders__ does the car have?"
   ]
  },
  {
   "cell_type": "code",
   "execution_count": null,
   "metadata": {
    "scrolled": true
   },
   "outputs": [],
   "source": [
    "cars.iloc[100]"
   ]
  },
  {
   "cell_type": "markdown",
   "metadata": {},
   "source": [
    "The car has ... 6 cylinders!"
   ]
  },
  {
   "cell_type": "markdown",
   "metadata": {},
   "source": [
    "11. Select the car/row at __index position 200__ with the __iloc__ operator (and only the column __\"name\"__)! <br>\n",
    "What is the __name__ of the car?"
   ]
  },
  {
   "cell_type": "code",
   "execution_count": null,
   "metadata": {},
   "outputs": [],
   "source": [
    "cars.iloc[200, 8]"
   ]
  },
  {
   "cell_type": "markdown",
   "metadata": {},
   "source": [
    "It´s a ... ford granada ghia!"
   ]
  },
  {
   "cell_type": "markdown",
   "metadata": {},
   "source": [
    "12. Select the __last 10 rows__ and the columns __mpg, horsepower, origin__ and __name__ with the __iloc__ operator! __Fill in the Gaps__! <br>\n",
    "What is the __mpg__ of the __vw pickup__?"
   ]
  },
  {
   "cell_type": "code",
   "execution_count": null,
   "metadata": {},
   "outputs": [],
   "source": [
    "cars.iloc[-10:, [0, 3, 7, 8]]"
   ]
  },
  {
   "cell_type": "markdown",
   "metadata": {},
   "source": [
    "The mpg is ... 44.0!"
   ]
  },
  {
   "cell_type": "markdown",
   "metadata": {},
   "source": [
    "13. __Import__ the __Cars Dataset__ one more time (save in the variable __cars__) and set the column __\"name\"__ as the __index__! <br>\n",
    "__Fill in the Gaps__!"
   ]
  },
  {
   "cell_type": "code",
   "execution_count": null,
   "metadata": {},
   "outputs": [],
   "source": [
    "cars = pd.read_csv(\"cars.csv\", index_col = \"name\")"
   ]
  },
  {
   "cell_type": "code",
   "execution_count": null,
   "metadata": {},
   "outputs": [],
   "source": [
    "#run the cell and inspect!\n",
    "cars"
   ]
  },
  {
   "cell_type": "code",
   "execution_count": null,
   "metadata": {},
   "outputs": [],
   "source": [
    "#run the cell and inspect!\n",
    "cars.info()"
   ]
  },
  {
   "cell_type": "markdown",
   "metadata": {},
   "source": [
    "14. __Inspect__ the new Index of the DataFrame by calling the __index__ attribute!"
   ]
  },
  {
   "cell_type": "code",
   "execution_count": null,
   "metadata": {
    "scrolled": true
   },
   "outputs": [],
   "source": [
    "cars.index"
   ]
  },
  {
   "cell_type": "markdown",
   "metadata": {},
   "source": [
    "15. Select the __row__ with the index label __\"ford ranger\"__ (use the __loc__ operator)! What is the __weight__?"
   ]
  },
  {
   "cell_type": "code",
   "execution_count": null,
   "metadata": {
    "scrolled": true
   },
   "outputs": [],
   "source": [
    "cars.loc[\"ford ranger\"]"
   ]
  },
  {
   "cell_type": "markdown",
   "metadata": {},
   "source": [
    "The weight is ... 2625!"
   ]
  },
  {
   "cell_type": "markdown",
   "metadata": {},
   "source": [
    "16. Select the __row__ with the index label __\"ford torino\"__ and only the columns __\"model_year\"__ and __\"origin\"__! <br>\n",
    "What´s the __model year__?"
   ]
  },
  {
   "cell_type": "code",
   "execution_count": null,
   "metadata": {},
   "outputs": [],
   "source": [
    "cars.loc[\"ford torino\", [\"model_year\", \"origin\"]]"
   ]
  },
  {
   "cell_type": "markdown",
   "metadata": {},
   "source": [
    "The model year is ... 70!"
   ]
  },
  {
   "cell_type": "markdown",
   "metadata": {},
   "source": [
    "17. Select the columns __\"mpg\"__ and __\"weight\"__ (all rows) with the __loc__ operator!"
   ]
  },
  {
   "cell_type": "code",
   "execution_count": null,
   "metadata": {
    "scrolled": true
   },
   "outputs": [],
   "source": [
    "cars.loc[:, [\"mpg\", \"weight\"]]"
   ]
  },
  {
   "cell_type": "markdown",
   "metadata": {},
   "source": [
    "# Well Done!"
   ]
  },
  {
   "cell_type": "markdown",
   "metadata": {},
   "source": [
    "---------------------------------------------------------------------------------------------------------------------"
   ]
  },
  {
   "cell_type": "markdown",
   "metadata": {},
   "source": [
    "# Hints (Spoiler!)"
   ]
  },
  {
   "cell_type": "markdown",
   "metadata": {},
   "source": [
    "7. pandas as pd, pd.read_csv(\"filename\"), head()"
   ]
  },
  {
   "cell_type": "markdown",
   "metadata": {},
   "source": [
    "8. cars.---"
   ]
  },
  {
   "cell_type": "markdown",
   "metadata": {},
   "source": [
    "9. cars[\"---\"]"
   ]
  },
  {
   "cell_type": "markdown",
   "metadata": {},
   "source": [
    "10. cars.iloc[---]"
   ]
  },
  {
   "cell_type": "markdown",
   "metadata": {},
   "source": [
    "11. cars.iloc[row index position, column index position]; \"name\" column is at index position ... 8"
   ]
  },
  {
   "cell_type": "markdown",
   "metadata": {},
   "source": [
    "12. The last 10 rows = from index position -10 till the end (:); Count the column index positions of the Columns\n"
   ]
  },
  {
   "cell_type": "markdown",
   "metadata": {},
   "source": [
    "13. parameter index_col"
   ]
  },
  {
   "cell_type": "markdown",
   "metadata": {},
   "source": [
    "14. cars.---"
   ]
  },
  {
   "cell_type": "markdown",
   "metadata": {},
   "source": [
    "15. cars.loc[\"row label\"]"
   ]
  },
  {
   "cell_type": "markdown",
   "metadata": {},
   "source": [
    "16. cars.loc[---, [---, ---]]"
   ]
  },
  {
   "cell_type": "markdown",
   "metadata": {},
   "source": [
    "17.  cars.loc[ : , [---, ---]]"
   ]
  },
  {
   "cell_type": "code",
   "execution_count": 1,
   "metadata": {},
   "outputs": [],
   "source": [
    "x=list(range(5))"
   ]
  },
  {
   "cell_type": "code",
   "execution_count": 2,
   "metadata": {},
   "outputs": [
    {
     "data": {
      "text/plain": [
       "[0, 1, 2, 3, 4]"
      ]
     },
     "execution_count": 2,
     "metadata": {},
     "output_type": "execute_result"
    }
   ],
   "source": [
    "x"
   ]
  },
  {
   "cell_type": "code",
   "execution_count": 8,
   "metadata": {},
   "outputs": [
    {
     "ename": "TypeError",
     "evalue": "'type' object is not subscriptable",
     "output_type": "error",
     "traceback": [
      "\u001b[0;31m---------------------------------------------------------------------------\u001b[0m",
      "\u001b[0;31mTypeError\u001b[0m                                 Traceback (most recent call last)",
      "\u001b[0;32m/tmp/ipykernel_8101/734022202.py\u001b[0m in \u001b[0;36m<module>\u001b[0;34m\u001b[0m\n\u001b[0;32m----> 1\u001b[0;31m \u001b[0ml\u001b[0m \u001b[0;34m=\u001b[0m \u001b[0mlist\u001b[0m\u001b[0;34m[\u001b[0m\u001b[0;36m1\u001b[0m\u001b[0;34m]\u001b[0m\u001b[0;34m\u001b[0m\u001b[0;34m\u001b[0m\u001b[0m\n\u001b[0m",
      "\u001b[0;31mTypeError\u001b[0m: 'type' object is not subscriptable"
     ]
    }
   ],
   "source": [
    "l = list[1]"
   ]
  },
  {
   "cell_type": "code",
   "execution_count": 12,
   "metadata": {},
   "outputs": [],
   "source": [
    "tu = (x+x,x)"
   ]
  },
  {
   "cell_type": "code",
   "execution_count": 13,
   "metadata": {},
   "outputs": [
    {
     "data": {
      "text/plain": [
       "([0, 1, 2, 3, 4, 0, 1, 2, 3, 4], [0, 1, 2, 3, 4])"
      ]
     },
     "execution_count": 13,
     "metadata": {},
     "output_type": "execute_result"
    }
   ],
   "source": [
    "tu"
   ]
  },
  {
   "cell_type": "code",
   "execution_count": 15,
   "metadata": {},
   "outputs": [
    {
     "data": {
      "text/plain": [
       "[0, 1, 2, 3, 4]"
      ]
     },
     "execution_count": 15,
     "metadata": {},
     "output_type": "execute_result"
    }
   ],
   "source": [
    "tu[1]"
   ]
  },
  {
   "cell_type": "code",
   "execution_count": 16,
   "metadata": {},
   "outputs": [
    {
     "data": {
      "text/plain": [
       "[0, 1, 2, 3, 4, 0, 1, 2, 3, 4]"
      ]
     },
     "execution_count": 16,
     "metadata": {},
     "output_type": "execute_result"
    }
   ],
   "source": [
    "tu[0]"
   ]
  },
  {
   "cell_type": "code",
   "execution_count": 18,
   "metadata": {},
   "outputs": [
    {
     "data": {
      "text/plain": [
       "0"
      ]
     },
     "execution_count": 18,
     "metadata": {},
     "output_type": "execute_result"
    }
   ],
   "source": [
    "tu[0][0]"
   ]
  },
  {
   "cell_type": "code",
   "execution_count": 19,
   "metadata": {},
   "outputs": [
    {
     "data": {
      "text/plain": [
       "2"
      ]
     },
     "execution_count": 19,
     "metadata": {},
     "output_type": "execute_result"
    }
   ],
   "source": [
    "tu[1][2]"
   ]
  },
  {
   "cell_type": "code",
   "execution_count": 20,
   "metadata": {},
   "outputs": [
    {
     "data": {
      "text/plain": [
       "4"
      ]
     },
     "execution_count": 20,
     "metadata": {},
     "output_type": "execute_result"
    }
   ],
   "source": [
    "tu[1][4]"
   ]
  },
  {
   "cell_type": "code",
   "execution_count": 30,
   "metadata": {
    "scrolled": false
   },
   "outputs": [
    {
     "name": "stdout",
     "output_type": "stream",
     "text": [
      "<class 'pandas.core.frame.DataFrame'>\n",
      "RangeIndex: 891 entries, 0 to 890\n",
      "Data columns (total 9 columns):\n",
      " #   Column    Non-Null Count  Dtype  \n",
      "---  ------    --------------  -----  \n",
      " 0   survived  891 non-null    int64  \n",
      " 1   pclass    891 non-null    int64  \n",
      " 2   sex       891 non-null    object \n",
      " 3   age       714 non-null    float64\n",
      " 4   sibsp     891 non-null    int64  \n",
      " 5   parch     891 non-null    int64  \n",
      " 6   fare      891 non-null    float64\n",
      " 7   embarked  889 non-null    object \n",
      " 8   deck      203 non-null    object \n",
      "dtypes: float64(2), int64(4), object(3)\n",
      "memory usage: 62.8+ KB\n"
     ]
    }
   ],
   "source": [
    "import pandas as pd\n",
    "titanic = pd.read_csv(\"titanic-Copy1.csv\")\n",
    "titanic.info()"
   ]
  },
  {
   "cell_type": "code",
   "execution_count": 110,
   "metadata": {},
   "outputs": [],
   "source": [
    "gbo = list(titanic.loc[:].sort_values(by=\"fare\").groupby(by=\"sex\"))"
   ]
  },
  {
   "cell_type": "code",
   "execution_count": 111,
   "metadata": {},
   "outputs": [
    {
     "data": {
      "text/plain": [
       "[('female',\n",
       "       survived  pclass     sex   age  sibsp  parch      fare embarked deck\n",
       "  654         0       3  female  18.0      0      0    6.7500        Q  NaN\n",
       "  875         1       3  female  15.0      0      0    7.2250        C  NaN\n",
       "  19          1       3  female   NaN      0      0    7.2250        C  NaN\n",
       "  780         1       3  female  13.0      0      0    7.2292        C  NaN\n",
       "  367         1       3  female   NaN      0      0    7.2292        C  NaN\n",
       "  ..        ...     ...     ...   ...    ...    ...       ...      ...  ...\n",
       "  742         1       1  female  21.0      2      2  262.3750        C    B\n",
       "  311         1       1  female  18.0      2      2  262.3750        C    B\n",
       "  88          1       1  female  23.0      3      2  263.0000        S    C\n",
       "  341         1       1  female  24.0      3      2  263.0000        S    C\n",
       "  258         1       1  female  35.0      0      0  512.3292        C  NaN\n",
       "  \n",
       "  [314 rows x 9 columns]),\n",
       " ('male',\n",
       "       survived  pclass   sex   age  sibsp  parch      fare embarked deck\n",
       "  271         1       3  male  25.0      0      0    0.0000        S  NaN\n",
       "  597         0       3  male  49.0      0      0    0.0000        S  NaN\n",
       "  302         0       3  male  19.0      0      0    0.0000        S  NaN\n",
       "  633         0       1  male   NaN      0      0    0.0000        S  NaN\n",
       "  277         0       2  male   NaN      0      0    0.0000        S  NaN\n",
       "  ..        ...     ...   ...   ...    ...    ...       ...      ...  ...\n",
       "  118         0       1  male  24.0      0      1  247.5208        C    B\n",
       "  27          0       1  male  19.0      3      2  263.0000        S    C\n",
       "  438         0       1  male  64.0      1      4  263.0000        S    C\n",
       "  737         1       1  male  35.0      0      0  512.3292        C    B\n",
       "  679         1       1  male  36.0      0      1  512.3292        C    B\n",
       "  \n",
       "  [577 rows x 9 columns])]"
      ]
     },
     "execution_count": 111,
     "metadata": {},
     "output_type": "execute_result"
    }
   ],
   "source": [
    "gbo"
   ]
  },
  {
   "cell_type": "code",
   "execution_count": 112,
   "metadata": {},
   "outputs": [
    {
     "data": {
      "text/plain": [
       "tuple"
      ]
     },
     "execution_count": 112,
     "metadata": {},
     "output_type": "execute_result"
    }
   ],
   "source": [
    "type(gbo[0])"
   ]
  },
  {
   "cell_type": "code",
   "execution_count": 113,
   "metadata": {},
   "outputs": [],
   "source": [
    "bydeck=list(gbo[1][1].loc[:].groupby(\"deck\"))"
   ]
  },
  {
   "cell_type": "code",
   "execution_count": null,
   "metadata": {},
   "outputs": [],
   "source": []
  },
  {
   "cell_type": "code",
   "execution_count": 114,
   "metadata": {},
   "outputs": [
    {
     "data": {
      "text/plain": [
       "[('A',\n",
       "       survived  pclass   sex   age  sibsp  parch     fare embarked deck\n",
       "  806         0       1  male  39.0      0      0   0.0000        S    A\n",
       "  284         0       1  male   NaN      0      0  26.0000        S    A\n",
       "  630         1       1  male  80.0      0      0  30.0000        S    A\n",
       "  174         0       1  male  56.0      0      0  30.6958        C    A\n",
       "  209         1       1  male  40.0      0      0  31.0000        C    A\n",
       "  96          0       1  male  71.0      0      0  34.6542        C    A\n",
       "  647         1       1  male  56.0      0      0  35.5000        C    A\n",
       "  23          1       1  male  28.0      0      0  35.5000        S    A\n",
       "  583         0       1  male  36.0      0      0  40.1250        C    A\n",
       "  185         0       1  male   NaN      0      0  50.0000        S    A\n",
       "  867         0       1  male  31.0      0      0  50.4958        S    A\n",
       "  475         0       1  male   NaN      0      0  52.0000        S    A\n",
       "  599         1       1  male  49.0      1      0  56.9292        C    A\n",
       "  445         1       1  male   4.0      0      2  81.8583        S    A),\n",
       " ('B',\n",
       "       survived  pclass   sex   age  sibsp  parch      fare embarked deck\n",
       "  263         0       1  male  40.0      0      0    0.0000        S    B\n",
       "  815         0       1  male   NaN      0      0    0.0000        S    B\n",
       "  872         0       1  male  33.0      0      0    5.0000        S    B\n",
       "  536         0       1  male  45.0      0      0   26.5500        S    B\n",
       "  487         0       1  male  58.0      0      0   29.7000        C    B\n",
       "  632         1       1  male  32.0      0      0   30.5000        C    B\n",
       "  170         0       1  male  61.0      0      0   33.5000        S    B\n",
       "  671         0       1  male  31.0      1      0   52.0000        S    B\n",
       "  690         1       1  male  31.0      1      0   57.0000        S    B\n",
       "  54          0       1  male  65.0      0      1   61.9792        C    B\n",
       "  745         0       1  male  70.0      1      1   71.0000        S    B\n",
       "  587         1       1  male  60.0      1      1   79.2000        C    B\n",
       "  789         0       1  male  46.0      0      0   79.2000        C    B\n",
       "  139         0       1  male  24.0      0      0   79.2000        C    B\n",
       "  484         1       1  male  25.0      1      0   91.0792        C    B\n",
       "  802         1       1  male  11.0      1      2  120.0000        S    B\n",
       "  390         1       1  male  36.0      1      2  120.0000        S    B\n",
       "  118         0       1  male  24.0      0      1  247.5208        C    B\n",
       "  737         1       1  male  35.0      0      0  512.3292        C    B\n",
       "  679         1       1  male  36.0      0      1  512.3292        C    B),\n",
       " ('C',\n",
       "       survived  pclass   sex    age  sibsp  parch      fare embarked deck\n",
       "  430         1       1  male  28.00      0      0   26.5500        S    C\n",
       "  711         0       1  male    NaN      0      0   26.5500        S    C\n",
       "  252         0       1  male  62.00      0      0   26.5500        S    C\n",
       "  452         0       1  male  30.00      0      0   27.7500        C    C\n",
       "  331         0       1  male  45.50      0      0   28.5000        S    C\n",
       "  273         0       1  male  37.00      0      1   29.7000        C    C\n",
       "  839         1       1  male    NaN      0      0   29.7000        C    C\n",
       "  889         1       1  male  26.00      0      0   30.0000        C    C\n",
       "  449         1       1  male  52.00      0      0   30.5000        S    C\n",
       "  298         1       1  male    NaN      0      0   30.5000        S    C\n",
       "  492         0       1  male  55.00      0      0   30.5000        S    C\n",
       "  351         0       1  male    NaN      0      0   35.0000        S    C\n",
       "  55          1       1  male    NaN      0      0   35.5000        S    C\n",
       "  712         1       1  male  48.00      1      0   52.0000        S    C\n",
       "  110         0       1  male  47.00      0      0   52.0000        S    C\n",
       "  137         0       1  male  37.00      1      0   53.1000        S    C\n",
       "  336         0       1  male  29.00      1      0   66.6000        S    C\n",
       "  741         0       1  male  36.00      1      0   78.8500        S    C\n",
       "  62          0       1  male  45.00      1      0   83.4750        S    C\n",
       "  453         1       1  male  49.00      1      0   89.1042        C    C\n",
       "  224         1       1  male  38.00      1      0   90.0000        S    C\n",
       "  245         0       1  male  44.00      2      0   90.0000        Q    C\n",
       "  544         0       1  male  50.00      1      0  106.4250        C    C\n",
       "  505         0       1  male  18.00      1      0  108.9000        C    C\n",
       "  550         1       1  male  17.00      0      2  110.8833        C    C\n",
       "  698         0       1  male  49.00      1      1  110.8833        C    C\n",
       "  305         1       1  male   0.92      1      2  151.5500        S    C\n",
       "  332         0       1  male  38.00      0      1  153.4625        S    C\n",
       "  377         0       1  male  27.00      0      2  211.5000        C    C\n",
       "  527         0       1  male    NaN      0      0  221.7792        S    C\n",
       "  27          0       1  male  19.00      3      2  263.0000        S    C\n",
       "  438         0       1  male  64.00      1      4  263.0000        S    C),\n",
       " ('D',\n",
       "       survived  pclass   sex   age  sibsp  parch      fare embarked deck\n",
       "  292         0       2  male  36.0      0      0   12.8750        C    D\n",
       "  21          1       2  male  34.0      0      0   13.0000        S    D\n",
       "  740         1       1  male   NaN      0      0   30.0000        S    D\n",
       "  782         0       1  male  29.0      0      0   30.0000        S    D\n",
       "  625         0       1  male  61.0      0      0   32.3208        S    D\n",
       "  515         0       1  male  47.0      0      0   34.0208        S    D\n",
       "  248         1       1  male  37.0      1      1   52.5542        S    D\n",
       "  621         1       1  male  42.0      1      0   52.5542        S    D\n",
       "  748         0       1  male  19.0      1      0   53.1000        S    D\n",
       "  97          1       1  male  23.0      0      1   63.3583        C    D\n",
       "  681         1       1  male  27.0      0      0   76.7292        C    D\n",
       "  645         1       1  male  48.0      1      0   76.7292        C    D\n",
       "  124         0       1  male  54.0      0      1   77.2875        S    D\n",
       "  102         0       1  male  21.0      0      1   77.2875        S    D\n",
       "  659         0       1  male  58.0      0      2  113.2750        C    D),\n",
       " ('E',\n",
       "       survived  pclass   sex   age  sibsp  parch     fare embarked deck\n",
       "  429         1       3  male  32.0      0      0   8.0500        S    E\n",
       "  751         1       3  male   6.0      0      1  12.4750        S    E\n",
       "  662         0       1  male  47.0      0      0  25.5875        S    E\n",
       "  707         1       1  male  42.0      0      0  26.2875        S    E\n",
       "  701         1       1  male  35.0      0      0  26.2875        S    E\n",
       "  512         1       1  male  36.0      0      0  26.2875        S    E\n",
       "  572         1       1  male  36.0      0      0  26.3875        S    E\n",
       "  456         0       1  male  65.0      0      0  26.5500        S    E\n",
       "  857         1       1  male  51.0      0      0  26.5500        S    E\n",
       "  460         1       1  male  48.0      0      0  26.5500        S    E\n",
       "  462         0       1  male  47.0      0      0  38.5000        S    E\n",
       "  6           0       1  male  54.0      0      0  51.8625        S    E\n",
       "  724         1       1  male  27.0      1      0  53.1000        S    E\n",
       "  370         1       1  male  25.0      1      0  55.4417        C    E\n",
       "  434         0       1  male  50.0      1      0  55.9000        S    E\n",
       "  92          0       1  male  46.0      1      0  61.1750        S    E\n",
       "  262         0       1  male  52.0      1      1  79.6500        S    E),\n",
       " ('F',\n",
       "       survived  pclass   sex   age  sibsp  parch   fare embarked deck\n",
       "  715         0       3  male  19.0      0      0   7.65        S    F\n",
       "  75          0       3  male  25.0      0      0   7.65        S    F\n",
       "  699         0       3  male  42.0      0      0   7.65        S    F\n",
       "  776         0       3  male   NaN      0      0   7.75        Q    F\n",
       "  193         1       2  male   3.0      1      1  26.00        S    F\n",
       "  148         0       2  male  36.5      0      2  26.00        S    F\n",
       "  340         1       2  male   2.0      1      1  26.00        S    F\n",
       "  183         1       2  male   1.0      2      1  39.00        S    F)]"
      ]
     },
     "execution_count": 114,
     "metadata": {},
     "output_type": "execute_result"
    }
   ],
   "source": [
    "bydeck"
   ]
  },
  {
   "cell_type": "code",
   "execution_count": 115,
   "metadata": {},
   "outputs": [
    {
     "data": {
      "text/html": [
       "<div>\n",
       "<style scoped>\n",
       "    .dataframe tbody tr th:only-of-type {\n",
       "        vertical-align: middle;\n",
       "    }\n",
       "\n",
       "    .dataframe tbody tr th {\n",
       "        vertical-align: top;\n",
       "    }\n",
       "\n",
       "    .dataframe thead th {\n",
       "        text-align: right;\n",
       "    }\n",
       "</style>\n",
       "<table border=\"1\" class=\"dataframe\">\n",
       "  <thead>\n",
       "    <tr style=\"text-align: right;\">\n",
       "      <th></th>\n",
       "      <th>survived</th>\n",
       "      <th>pclass</th>\n",
       "      <th>sex</th>\n",
       "      <th>age</th>\n",
       "      <th>sibsp</th>\n",
       "      <th>parch</th>\n",
       "      <th>fare</th>\n",
       "      <th>embarked</th>\n",
       "      <th>deck</th>\n",
       "    </tr>\n",
       "  </thead>\n",
       "  <tbody>\n",
       "    <tr>\n",
       "      <th>806</th>\n",
       "      <td>0</td>\n",
       "      <td>1</td>\n",
       "      <td>male</td>\n",
       "      <td>39.0</td>\n",
       "      <td>0</td>\n",
       "      <td>0</td>\n",
       "      <td>0.0000</td>\n",
       "      <td>S</td>\n",
       "      <td>A</td>\n",
       "    </tr>\n",
       "    <tr>\n",
       "      <th>284</th>\n",
       "      <td>0</td>\n",
       "      <td>1</td>\n",
       "      <td>male</td>\n",
       "      <td>NaN</td>\n",
       "      <td>0</td>\n",
       "      <td>0</td>\n",
       "      <td>26.0000</td>\n",
       "      <td>S</td>\n",
       "      <td>A</td>\n",
       "    </tr>\n",
       "    <tr>\n",
       "      <th>630</th>\n",
       "      <td>1</td>\n",
       "      <td>1</td>\n",
       "      <td>male</td>\n",
       "      <td>80.0</td>\n",
       "      <td>0</td>\n",
       "      <td>0</td>\n",
       "      <td>30.0000</td>\n",
       "      <td>S</td>\n",
       "      <td>A</td>\n",
       "    </tr>\n",
       "    <tr>\n",
       "      <th>174</th>\n",
       "      <td>0</td>\n",
       "      <td>1</td>\n",
       "      <td>male</td>\n",
       "      <td>56.0</td>\n",
       "      <td>0</td>\n",
       "      <td>0</td>\n",
       "      <td>30.6958</td>\n",
       "      <td>C</td>\n",
       "      <td>A</td>\n",
       "    </tr>\n",
       "    <tr>\n",
       "      <th>209</th>\n",
       "      <td>1</td>\n",
       "      <td>1</td>\n",
       "      <td>male</td>\n",
       "      <td>40.0</td>\n",
       "      <td>0</td>\n",
       "      <td>0</td>\n",
       "      <td>31.0000</td>\n",
       "      <td>C</td>\n",
       "      <td>A</td>\n",
       "    </tr>\n",
       "    <tr>\n",
       "      <th>96</th>\n",
       "      <td>0</td>\n",
       "      <td>1</td>\n",
       "      <td>male</td>\n",
       "      <td>71.0</td>\n",
       "      <td>0</td>\n",
       "      <td>0</td>\n",
       "      <td>34.6542</td>\n",
       "      <td>C</td>\n",
       "      <td>A</td>\n",
       "    </tr>\n",
       "    <tr>\n",
       "      <th>647</th>\n",
       "      <td>1</td>\n",
       "      <td>1</td>\n",
       "      <td>male</td>\n",
       "      <td>56.0</td>\n",
       "      <td>0</td>\n",
       "      <td>0</td>\n",
       "      <td>35.5000</td>\n",
       "      <td>C</td>\n",
       "      <td>A</td>\n",
       "    </tr>\n",
       "    <tr>\n",
       "      <th>23</th>\n",
       "      <td>1</td>\n",
       "      <td>1</td>\n",
       "      <td>male</td>\n",
       "      <td>28.0</td>\n",
       "      <td>0</td>\n",
       "      <td>0</td>\n",
       "      <td>35.5000</td>\n",
       "      <td>S</td>\n",
       "      <td>A</td>\n",
       "    </tr>\n",
       "    <tr>\n",
       "      <th>583</th>\n",
       "      <td>0</td>\n",
       "      <td>1</td>\n",
       "      <td>male</td>\n",
       "      <td>36.0</td>\n",
       "      <td>0</td>\n",
       "      <td>0</td>\n",
       "      <td>40.1250</td>\n",
       "      <td>C</td>\n",
       "      <td>A</td>\n",
       "    </tr>\n",
       "    <tr>\n",
       "      <th>185</th>\n",
       "      <td>0</td>\n",
       "      <td>1</td>\n",
       "      <td>male</td>\n",
       "      <td>NaN</td>\n",
       "      <td>0</td>\n",
       "      <td>0</td>\n",
       "      <td>50.0000</td>\n",
       "      <td>S</td>\n",
       "      <td>A</td>\n",
       "    </tr>\n",
       "    <tr>\n",
       "      <th>867</th>\n",
       "      <td>0</td>\n",
       "      <td>1</td>\n",
       "      <td>male</td>\n",
       "      <td>31.0</td>\n",
       "      <td>0</td>\n",
       "      <td>0</td>\n",
       "      <td>50.4958</td>\n",
       "      <td>S</td>\n",
       "      <td>A</td>\n",
       "    </tr>\n",
       "    <tr>\n",
       "      <th>475</th>\n",
       "      <td>0</td>\n",
       "      <td>1</td>\n",
       "      <td>male</td>\n",
       "      <td>NaN</td>\n",
       "      <td>0</td>\n",
       "      <td>0</td>\n",
       "      <td>52.0000</td>\n",
       "      <td>S</td>\n",
       "      <td>A</td>\n",
       "    </tr>\n",
       "    <tr>\n",
       "      <th>599</th>\n",
       "      <td>1</td>\n",
       "      <td>1</td>\n",
       "      <td>male</td>\n",
       "      <td>49.0</td>\n",
       "      <td>1</td>\n",
       "      <td>0</td>\n",
       "      <td>56.9292</td>\n",
       "      <td>C</td>\n",
       "      <td>A</td>\n",
       "    </tr>\n",
       "    <tr>\n",
       "      <th>445</th>\n",
       "      <td>1</td>\n",
       "      <td>1</td>\n",
       "      <td>male</td>\n",
       "      <td>4.0</td>\n",
       "      <td>0</td>\n",
       "      <td>2</td>\n",
       "      <td>81.8583</td>\n",
       "      <td>S</td>\n",
       "      <td>A</td>\n",
       "    </tr>\n",
       "  </tbody>\n",
       "</table>\n",
       "</div>"
      ],
      "text/plain": [
       "     survived  pclass   sex   age  sibsp  parch     fare embarked deck\n",
       "806         0       1  male  39.0      0      0   0.0000        S    A\n",
       "284         0       1  male   NaN      0      0  26.0000        S    A\n",
       "630         1       1  male  80.0      0      0  30.0000        S    A\n",
       "174         0       1  male  56.0      0      0  30.6958        C    A\n",
       "209         1       1  male  40.0      0      0  31.0000        C    A\n",
       "96          0       1  male  71.0      0      0  34.6542        C    A\n",
       "647         1       1  male  56.0      0      0  35.5000        C    A\n",
       "23          1       1  male  28.0      0      0  35.5000        S    A\n",
       "583         0       1  male  36.0      0      0  40.1250        C    A\n",
       "185         0       1  male   NaN      0      0  50.0000        S    A\n",
       "867         0       1  male  31.0      0      0  50.4958        S    A\n",
       "475         0       1  male   NaN      0      0  52.0000        S    A\n",
       "599         1       1  male  49.0      1      0  56.9292        C    A\n",
       "445         1       1  male   4.0      0      2  81.8583        S    A"
      ]
     },
     "execution_count": 115,
     "metadata": {},
     "output_type": "execute_result"
    }
   ],
   "source": [
    "bydeck[0][1]"
   ]
  },
  {
   "cell_type": "code",
   "execution_count": null,
   "metadata": {},
   "outputs": [],
   "source": []
  },
  {
   "cell_type": "code",
   "execution_count": null,
   "metadata": {},
   "outputs": [],
   "source": []
  }
 ],
 "metadata": {
  "kernelspec": {
   "display_name": "Python 3 (ipykernel)",
   "language": "python",
   "name": "python3"
  },
  "language_info": {
   "codemirror_mode": {
    "name": "ipython",
    "version": 3
   },
   "file_extension": ".py",
   "mimetype": "text/x-python",
   "name": "python",
   "nbconvert_exporter": "python",
   "pygments_lexer": "ipython3",
   "version": "3.7.13"
  }
 },
 "nbformat": 4,
 "nbformat_minor": 2
}
