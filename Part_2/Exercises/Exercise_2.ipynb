{
 "cells": [
  {
   "cell_type": "markdown",
   "metadata": {},
   "source": [
    "# Coding Exercises"
   ]
  },
  {
   "cell_type": "markdown",
   "metadata": {},
   "source": [
    "## Financial Data Analysis"
   ]
  },
  {
   "cell_type": "markdown",
   "metadata": {},
   "source": [
    "### Exercise 2: Financial Time Series"
   ]
  },
  {
   "cell_type": "markdown",
   "metadata": {},
   "source": [
    "Now, you will have the opportunity to analyze your own dataset. <br>\n",
    "__Follow the instructions__ and insert your code! You are either requested to \n",
    "- Complete the Code and __Fill in the gaps__. Gaps are marked with \"__---__\" and are __placeholders__ for your code fragment \n",
    "- Write Code completely __on your own__ "
   ]
  },
  {
   "cell_type": "markdown",
   "metadata": {},
   "source": [
    "In some exercises, you will find questions that can only be answered, if your code is correct and returns the right output! The correct answer is provided below your coding cell. There you can check whether your code is correct."
   ]
  },
  {
   "cell_type": "markdown",
   "metadata": {},
   "source": [
    "### Have Fun!"
   ]
  },
  {
   "cell_type": "markdown",
   "metadata": {},
   "source": [
    "--------------------------------------------------------------------------------------------------------------"
   ]
  },
  {
   "cell_type": "markdown",
   "metadata": {},
   "source": [
    "## Option 1: Self_guided"
   ]
  },
  {
   "cell_type": "code",
   "execution_count": 38,
   "metadata": {},
   "outputs": [
    {
     "data": {
      "text/html": [
       "<div>\n",
       "<style scoped>\n",
       "    .dataframe tbody tr th:only-of-type {\n",
       "        vertical-align: middle;\n",
       "    }\n",
       "\n",
       "    .dataframe tbody tr th {\n",
       "        vertical-align: top;\n",
       "    }\n",
       "\n",
       "    .dataframe thead th {\n",
       "        text-align: right;\n",
       "    }\n",
       "</style>\n",
       "<table border=\"1\" class=\"dataframe\">\n",
       "  <thead>\n",
       "    <tr style=\"text-align: right;\">\n",
       "      <th></th>\n",
       "      <th>AXP</th>\n",
       "      <th>FB</th>\n",
       "      <th>INTC</th>\n",
       "      <th>MCD</th>\n",
       "      <th>PG</th>\n",
       "      <th>WMT</th>\n",
       "    </tr>\n",
       "    <tr>\n",
       "      <th>Date</th>\n",
       "      <th></th>\n",
       "      <th></th>\n",
       "      <th></th>\n",
       "      <th></th>\n",
       "      <th></th>\n",
       "      <th></th>\n",
       "    </tr>\n",
       "  </thead>\n",
       "  <tbody>\n",
       "    <tr>\n",
       "      <th>2017-01-03</th>\n",
       "      <td>75.349998</td>\n",
       "      <td>116.860001</td>\n",
       "      <td>36.599998</td>\n",
       "      <td>119.620003</td>\n",
       "      <td>84.199997</td>\n",
       "      <td>68.660004</td>\n",
       "    </tr>\n",
       "    <tr>\n",
       "      <th>2017-01-04</th>\n",
       "      <td>76.260002</td>\n",
       "      <td>118.690002</td>\n",
       "      <td>36.410000</td>\n",
       "      <td>119.480003</td>\n",
       "      <td>84.500000</td>\n",
       "      <td>69.059998</td>\n",
       "    </tr>\n",
       "    <tr>\n",
       "      <th>2017-01-05</th>\n",
       "      <td>75.320000</td>\n",
       "      <td>120.669998</td>\n",
       "      <td>36.349998</td>\n",
       "      <td>119.699997</td>\n",
       "      <td>85.059998</td>\n",
       "      <td>69.209999</td>\n",
       "    </tr>\n",
       "    <tr>\n",
       "      <th>2017-01-06</th>\n",
       "      <td>75.470001</td>\n",
       "      <td>123.410004</td>\n",
       "      <td>36.480000</td>\n",
       "      <td>120.760002</td>\n",
       "      <td>85.029999</td>\n",
       "      <td>68.260002</td>\n",
       "    </tr>\n",
       "    <tr>\n",
       "      <th>2017-01-09</th>\n",
       "      <td>75.860001</td>\n",
       "      <td>124.900002</td>\n",
       "      <td>36.610001</td>\n",
       "      <td>120.430000</td>\n",
       "      <td>84.400002</td>\n",
       "      <td>68.709999</td>\n",
       "    </tr>\n",
       "    <tr>\n",
       "      <th>2017-01-10</th>\n",
       "      <td>76.650002</td>\n",
       "      <td>124.349998</td>\n",
       "      <td>36.540001</td>\n",
       "      <td>120.250000</td>\n",
       "      <td>83.489998</td>\n",
       "      <td>68.230003</td>\n",
       "    </tr>\n",
       "    <tr>\n",
       "      <th>2017-01-11</th>\n",
       "      <td>76.910004</td>\n",
       "      <td>126.089996</td>\n",
       "      <td>36.950001</td>\n",
       "      <td>120.879997</td>\n",
       "      <td>83.750000</td>\n",
       "      <td>68.529999</td>\n",
       "    </tr>\n",
       "    <tr>\n",
       "      <th>2017-01-12</th>\n",
       "      <td>76.879997</td>\n",
       "      <td>126.620003</td>\n",
       "      <td>36.709999</td>\n",
       "      <td>122.099998</td>\n",
       "      <td>83.839996</td>\n",
       "      <td>67.970001</td>\n",
       "    </tr>\n",
       "    <tr>\n",
       "      <th>2017-01-13</th>\n",
       "      <td>76.620003</td>\n",
       "      <td>128.339996</td>\n",
       "      <td>36.790001</td>\n",
       "      <td>121.500000</td>\n",
       "      <td>84.010002</td>\n",
       "      <td>67.129997</td>\n",
       "    </tr>\n",
       "    <tr>\n",
       "      <th>2017-01-17</th>\n",
       "      <td>76.599998</td>\n",
       "      <td>127.870003</td>\n",
       "      <td>36.799999</td>\n",
       "      <td>122.750000</td>\n",
       "      <td>85.209999</td>\n",
       "      <td>68.419998</td>\n",
       "    </tr>\n",
       "    <tr>\n",
       "      <th>2017-01-18</th>\n",
       "      <td>77.489998</td>\n",
       "      <td>127.919998</td>\n",
       "      <td>36.759998</td>\n",
       "      <td>122.709999</td>\n",
       "      <td>84.930000</td>\n",
       "      <td>68.110001</td>\n",
       "    </tr>\n",
       "    <tr>\n",
       "      <th>2017-01-19</th>\n",
       "      <td>76.690002</td>\n",
       "      <td>127.550003</td>\n",
       "      <td>36.570000</td>\n",
       "      <td>122.180000</td>\n",
       "      <td>84.699997</td>\n",
       "      <td>67.620003</td>\n",
       "    </tr>\n",
       "    <tr>\n",
       "      <th>2017-01-20</th>\n",
       "      <td>76.199997</td>\n",
       "      <td>127.040001</td>\n",
       "      <td>36.939999</td>\n",
       "      <td>122.260002</td>\n",
       "      <td>87.449997</td>\n",
       "      <td>67.180000</td>\n",
       "    </tr>\n",
       "    <tr>\n",
       "      <th>2017-01-23</th>\n",
       "      <td>75.970001</td>\n",
       "      <td>128.929993</td>\n",
       "      <td>36.770000</td>\n",
       "      <td>121.379997</td>\n",
       "      <td>86.959999</td>\n",
       "      <td>66.650002</td>\n",
       "    </tr>\n",
       "    <tr>\n",
       "      <th>2017-01-24</th>\n",
       "      <td>77.430000</td>\n",
       "      <td>129.369995</td>\n",
       "      <td>37.619999</td>\n",
       "      <td>121.050003</td>\n",
       "      <td>87.860001</td>\n",
       "      <td>67.400002</td>\n",
       "    </tr>\n",
       "    <tr>\n",
       "      <th>2017-01-25</th>\n",
       "      <td>76.889999</td>\n",
       "      <td>131.479996</td>\n",
       "      <td>37.799999</td>\n",
       "      <td>121.790001</td>\n",
       "      <td>87.160004</td>\n",
       "      <td>66.889999</td>\n",
       "    </tr>\n",
       "    <tr>\n",
       "      <th>2017-01-26</th>\n",
       "      <td>76.930000</td>\n",
       "      <td>132.779999</td>\n",
       "      <td>37.560001</td>\n",
       "      <td>121.879997</td>\n",
       "      <td>86.599998</td>\n",
       "      <td>66.730003</td>\n",
       "    </tr>\n",
       "    <tr>\n",
       "      <th>2017-01-27</th>\n",
       "      <td>76.849998</td>\n",
       "      <td>132.179993</td>\n",
       "      <td>37.980000</td>\n",
       "      <td>122.860001</td>\n",
       "      <td>86.720001</td>\n",
       "      <td>65.660004</td>\n",
       "    </tr>\n",
       "    <tr>\n",
       "      <th>2017-01-30</th>\n",
       "      <td>77.279999</td>\n",
       "      <td>130.979996</td>\n",
       "      <td>37.419998</td>\n",
       "      <td>123.019997</td>\n",
       "      <td>86.750000</td>\n",
       "      <td>66.419998</td>\n",
       "    </tr>\n",
       "    <tr>\n",
       "      <th>2017-01-31</th>\n",
       "      <td>76.379997</td>\n",
       "      <td>130.320007</td>\n",
       "      <td>36.820000</td>\n",
       "      <td>122.570000</td>\n",
       "      <td>87.599998</td>\n",
       "      <td>66.739998</td>\n",
       "    </tr>\n",
       "  </tbody>\n",
       "</table>\n",
       "</div>"
      ],
      "text/plain": [
       "                  AXP          FB       INTC         MCD         PG        WMT\n",
       "Date                                                                          \n",
       "2017-01-03  75.349998  116.860001  36.599998  119.620003  84.199997  68.660004\n",
       "2017-01-04  76.260002  118.690002  36.410000  119.480003  84.500000  69.059998\n",
       "2017-01-05  75.320000  120.669998  36.349998  119.699997  85.059998  69.209999\n",
       "2017-01-06  75.470001  123.410004  36.480000  120.760002  85.029999  68.260002\n",
       "2017-01-09  75.860001  124.900002  36.610001  120.430000  84.400002  68.709999\n",
       "2017-01-10  76.650002  124.349998  36.540001  120.250000  83.489998  68.230003\n",
       "2017-01-11  76.910004  126.089996  36.950001  120.879997  83.750000  68.529999\n",
       "2017-01-12  76.879997  126.620003  36.709999  122.099998  83.839996  67.970001\n",
       "2017-01-13  76.620003  128.339996  36.790001  121.500000  84.010002  67.129997\n",
       "2017-01-17  76.599998  127.870003  36.799999  122.750000  85.209999  68.419998\n",
       "2017-01-18  77.489998  127.919998  36.759998  122.709999  84.930000  68.110001\n",
       "2017-01-19  76.690002  127.550003  36.570000  122.180000  84.699997  67.620003\n",
       "2017-01-20  76.199997  127.040001  36.939999  122.260002  87.449997  67.180000\n",
       "2017-01-23  75.970001  128.929993  36.770000  121.379997  86.959999  66.650002\n",
       "2017-01-24  77.430000  129.369995  37.619999  121.050003  87.860001  67.400002\n",
       "2017-01-25  76.889999  131.479996  37.799999  121.790001  87.160004  66.889999\n",
       "2017-01-26  76.930000  132.779999  37.560001  121.879997  86.599998  66.730003\n",
       "2017-01-27  76.849998  132.179993  37.980000  122.860001  86.720001  65.660004\n",
       "2017-01-30  77.279999  130.979996  37.419998  123.019997  86.750000  66.419998\n",
       "2017-01-31  76.379997  130.320007  36.820000  122.570000  87.599998  66.739998"
      ]
     },
     "execution_count": 38,
     "metadata": {},
     "output_type": "execute_result"
    }
   ],
   "source": [
    "import pandas as pd\n",
    "import yfinance as yf\n",
    "df = pd.read_csv(\"us_stocks.csv\", header = [0,1], index_col=[0], parse_dates=[0])\n",
    "stocks = df.loc[\"31-12-2015\" : \"31-12-2018\"]\n",
    "stocks.columns = stocks.columns.to_flat_index()\n",
    "stocks.columns = pd.MultiIndex.from_tuples(stocks.columns)\n",
    "stocks.swaplevel(axis=1).sort_index(axis = 1)\n",
    "stocks.loc[\"2017-01\",\"Close\"]\n",
    "\n",
    "#The adjusted close price of FB on Jan 07, 2016\n",
    "#stocks[\"Adj Close\"][\"FB\"].loc[\"2016-01-07\"]"
   ]
  },
  {
   "cell_type": "markdown",
   "metadata": {},
   "source": [
    "Import the us stocks dataset (__us_stocks.csv__) and select the Adjusted Close (__Adj Close__) for all six stocks from __31-12-2015__ (incl.) until __31-12-2018__ (incl.). Save the DataFrame in the variable __stocks__ and work through the next questions with this DataFrame!"
   ]
  },
  {
   "cell_type": "code",
   "execution_count": 39,
   "metadata": {},
   "outputs": [
    {
     "data": {
      "text/html": [
       "<div>\n",
       "<style scoped>\n",
       "    .dataframe tbody tr th:only-of-type {\n",
       "        vertical-align: middle;\n",
       "    }\n",
       "\n",
       "    .dataframe tbody tr th {\n",
       "        vertical-align: top;\n",
       "    }\n",
       "\n",
       "    .dataframe thead th {\n",
       "        text-align: right;\n",
       "    }\n",
       "</style>\n",
       "<table border=\"1\" class=\"dataframe\">\n",
       "  <thead>\n",
       "    <tr style=\"text-align: right;\">\n",
       "      <th></th>\n",
       "      <th>AXP</th>\n",
       "      <th>FB</th>\n",
       "      <th>INTC</th>\n",
       "      <th>MCD</th>\n",
       "      <th>PG</th>\n",
       "      <th>WMT</th>\n",
       "    </tr>\n",
       "    <tr>\n",
       "      <th>Date</th>\n",
       "      <th></th>\n",
       "      <th></th>\n",
       "      <th></th>\n",
       "      <th></th>\n",
       "      <th></th>\n",
       "      <th></th>\n",
       "    </tr>\n",
       "  </thead>\n",
       "  <tbody>\n",
       "    <tr>\n",
       "      <th>2015-12-31</th>\n",
       "      <td>69.550003</td>\n",
       "      <td>104.660004</td>\n",
       "      <td>34.450001</td>\n",
       "      <td>118.139999</td>\n",
       "      <td>79.410004</td>\n",
       "      <td>61.299999</td>\n",
       "    </tr>\n",
       "    <tr>\n",
       "      <th>2016-01-04</th>\n",
       "      <td>67.589996</td>\n",
       "      <td>102.220001</td>\n",
       "      <td>33.990002</td>\n",
       "      <td>117.580002</td>\n",
       "      <td>78.370003</td>\n",
       "      <td>61.459999</td>\n",
       "    </tr>\n",
       "    <tr>\n",
       "      <th>2016-01-05</th>\n",
       "      <td>66.550003</td>\n",
       "      <td>102.730003</td>\n",
       "      <td>33.830002</td>\n",
       "      <td>119.199997</td>\n",
       "      <td>78.620003</td>\n",
       "      <td>62.919998</td>\n",
       "    </tr>\n",
       "    <tr>\n",
       "      <th>2016-01-06</th>\n",
       "      <td>64.419998</td>\n",
       "      <td>102.970001</td>\n",
       "      <td>33.080002</td>\n",
       "      <td>118.400002</td>\n",
       "      <td>77.860001</td>\n",
       "      <td>63.549999</td>\n",
       "    </tr>\n",
       "    <tr>\n",
       "      <th>2016-01-07</th>\n",
       "      <td>63.840000</td>\n",
       "      <td>97.919998</td>\n",
       "      <td>31.840000</td>\n",
       "      <td>115.660004</td>\n",
       "      <td>77.180000</td>\n",
       "      <td>65.029999</td>\n",
       "    </tr>\n",
       "    <tr>\n",
       "      <th>...</th>\n",
       "      <td>...</td>\n",
       "      <td>...</td>\n",
       "      <td>...</td>\n",
       "      <td>...</td>\n",
       "      <td>...</td>\n",
       "      <td>...</td>\n",
       "    </tr>\n",
       "    <tr>\n",
       "      <th>2018-12-21</th>\n",
       "      <td>91.330002</td>\n",
       "      <td>124.949997</td>\n",
       "      <td>44.840000</td>\n",
       "      <td>174.149994</td>\n",
       "      <td>90.970001</td>\n",
       "      <td>87.129997</td>\n",
       "    </tr>\n",
       "    <tr>\n",
       "      <th>2018-12-24</th>\n",
       "      <td>89.500000</td>\n",
       "      <td>124.059998</td>\n",
       "      <td>43.590000</td>\n",
       "      <td>170.279999</td>\n",
       "      <td>87.360001</td>\n",
       "      <td>85.820000</td>\n",
       "    </tr>\n",
       "    <tr>\n",
       "      <th>2018-12-26</th>\n",
       "      <td>93.839996</td>\n",
       "      <td>134.179993</td>\n",
       "      <td>46.189999</td>\n",
       "      <td>174.029999</td>\n",
       "      <td>90.089996</td>\n",
       "      <td>90.410004</td>\n",
       "    </tr>\n",
       "    <tr>\n",
       "      <th>2018-12-27</th>\n",
       "      <td>94.680000</td>\n",
       "      <td>134.520004</td>\n",
       "      <td>46.360001</td>\n",
       "      <td>175.710007</td>\n",
       "      <td>92.019997</td>\n",
       "      <td>91.589996</td>\n",
       "    </tr>\n",
       "    <tr>\n",
       "      <th>2018-12-28</th>\n",
       "      <td>94.419998</td>\n",
       "      <td>133.199997</td>\n",
       "      <td>46.750000</td>\n",
       "      <td>175.559998</td>\n",
       "      <td>91.180000</td>\n",
       "      <td>92.129997</td>\n",
       "    </tr>\n",
       "  </tbody>\n",
       "</table>\n",
       "<p>754 rows × 6 columns</p>\n",
       "</div>"
      ],
      "text/plain": [
       "                  AXP          FB       INTC         MCD         PG        WMT\n",
       "Date                                                                          \n",
       "2015-12-31  69.550003  104.660004  34.450001  118.139999  79.410004  61.299999\n",
       "2016-01-04  67.589996  102.220001  33.990002  117.580002  78.370003  61.459999\n",
       "2016-01-05  66.550003  102.730003  33.830002  119.199997  78.620003  62.919998\n",
       "2016-01-06  64.419998  102.970001  33.080002  118.400002  77.860001  63.549999\n",
       "2016-01-07  63.840000   97.919998  31.840000  115.660004  77.180000  65.029999\n",
       "...               ...         ...        ...         ...        ...        ...\n",
       "2018-12-21  91.330002  124.949997  44.840000  174.149994  90.970001  87.129997\n",
       "2018-12-24  89.500000  124.059998  43.590000  170.279999  87.360001  85.820000\n",
       "2018-12-26  93.839996  134.179993  46.189999  174.029999  90.089996  90.410004\n",
       "2018-12-27  94.680000  134.520004  46.360001  175.710007  92.019997  91.589996\n",
       "2018-12-28  94.419998  133.199997  46.750000  175.559998  91.180000  92.129997\n",
       "\n",
       "[754 rows x 6 columns]"
      ]
     },
     "execution_count": 39,
     "metadata": {},
     "output_type": "execute_result"
    }
   ],
   "source": [
    "import matplotlib.pyplot as plt\n",
    "plt.style.use(\"seaborn\")\n",
    "close = stocks.loc[:,\"Close\"]\n",
    "close"
   ]
  },
  {
   "cell_type": "code",
   "execution_count": 40,
   "metadata": {
    "scrolled": true
   },
   "outputs": [
    {
     "data": {
      "text/plain": [
       "Date\n",
       "2018-12-14    96.639999\n",
       "2018-12-13    96.489998\n",
       "2018-11-30    94.510002\n",
       "2017-09-20    94.400002\n",
       "2017-09-19    94.169998\n",
       "                ...    \n",
       "2018-05-07    71.980003\n",
       "2018-05-01    71.959999\n",
       "2018-05-08    71.440002\n",
       "2018-05-03    71.360001\n",
       "2018-05-02    70.940002\n",
       "Name: PG, Length: 754, dtype: float64"
      ]
     },
     "execution_count": 40,
     "metadata": {},
     "output_type": "execute_result"
    }
   ],
   "source": [
    "stocks.Close.PG.sort_values(ascending = False)"
   ]
  },
  {
   "cell_type": "markdown",
   "metadata": {},
   "source": [
    "-__Visualize__ the Adjusted Close of the six stocks __over time__!"
   ]
  },
  {
   "cell_type": "code",
   "execution_count": 41,
   "metadata": {
    "scrolled": true
   },
   "outputs": [
    {
     "data": {
      "image/png": "[encoded data removed]",
      "text/plain": [
       "<Figure size 1080x360 with 1 Axes>"
      ]
     },
     "metadata": {},
     "output_type": "display_data"
    }
   ],
   "source": [
    "close.plot(figsize=(15,5), fontsize= 13)\n",
    "plt.legend(fontsize = 13)\n",
    "plt.show()"
   ]
  },
  {
   "cell_type": "markdown",
   "metadata": {},
   "source": [
    "- __Visualize__ the __normalized__ Adjusted Close of the six stocks __over time__, each starting at a __Base Value of 100__!"
   ]
  },
  {
   "cell_type": "code",
   "execution_count": 42,
   "metadata": {},
   "outputs": [
    {
     "data": {
      "text/html": [
       "<div>\n",
       "<style scoped>\n",
       "    .dataframe tbody tr th:only-of-type {\n",
       "        vertical-align: middle;\n",
       "    }\n",
       "\n",
       "    .dataframe tbody tr th {\n",
       "        vertical-align: top;\n",
       "    }\n",
       "\n",
       "    .dataframe thead th {\n",
       "        text-align: right;\n",
       "    }\n",
       "</style>\n",
       "<table border=\"1\" class=\"dataframe\">\n",
       "  <thead>\n",
       "    <tr style=\"text-align: right;\">\n",
       "      <th></th>\n",
       "      <th>AXP</th>\n",
       "      <th>FB</th>\n",
       "      <th>INTC</th>\n",
       "      <th>MCD</th>\n",
       "      <th>PG</th>\n",
       "      <th>WMT</th>\n",
       "    </tr>\n",
       "    <tr>\n",
       "      <th>Date</th>\n",
       "      <th></th>\n",
       "      <th></th>\n",
       "      <th></th>\n",
       "      <th></th>\n",
       "      <th></th>\n",
       "      <th></th>\n",
       "    </tr>\n",
       "  </thead>\n",
       "  <tbody>\n",
       "    <tr>\n",
       "      <th>2015-12-31</th>\n",
       "      <td>100.000000</td>\n",
       "      <td>100.000000</td>\n",
       "      <td>100.000000</td>\n",
       "      <td>100.000000</td>\n",
       "      <td>100.000000</td>\n",
       "      <td>100.000000</td>\n",
       "    </tr>\n",
       "    <tr>\n",
       "      <th>2016-01-04</th>\n",
       "      <td>97.181874</td>\n",
       "      <td>97.668639</td>\n",
       "      <td>98.664734</td>\n",
       "      <td>99.525989</td>\n",
       "      <td>98.690340</td>\n",
       "      <td>100.261011</td>\n",
       "    </tr>\n",
       "    <tr>\n",
       "      <th>2016-01-05</th>\n",
       "      <td>95.686557</td>\n",
       "      <td>98.155933</td>\n",
       "      <td>98.200293</td>\n",
       "      <td>100.897239</td>\n",
       "      <td>99.005162</td>\n",
       "      <td>102.642739</td>\n",
       "    </tr>\n",
       "    <tr>\n",
       "      <th>2016-01-06</th>\n",
       "      <td>92.624005</td>\n",
       "      <td>98.385245</td>\n",
       "      <td>96.023225</td>\n",
       "      <td>100.220080</td>\n",
       "      <td>98.048101</td>\n",
       "      <td>103.670473</td>\n",
       "    </tr>\n",
       "    <tr>\n",
       "      <th>2016-01-07</th>\n",
       "      <td>91.790075</td>\n",
       "      <td>93.560094</td>\n",
       "      <td>92.423800</td>\n",
       "      <td>97.900800</td>\n",
       "      <td>97.191785</td>\n",
       "      <td>106.084829</td>\n",
       "    </tr>\n",
       "    <tr>\n",
       "      <th>...</th>\n",
       "      <td>...</td>\n",
       "      <td>...</td>\n",
       "      <td>...</td>\n",
       "      <td>...</td>\n",
       "      <td>...</td>\n",
       "      <td>...</td>\n",
       "    </tr>\n",
       "    <tr>\n",
       "      <th>2018-12-21</th>\n",
       "      <td>131.315597</td>\n",
       "      <td>119.386578</td>\n",
       "      <td>130.159648</td>\n",
       "      <td>147.409849</td>\n",
       "      <td>114.557356</td>\n",
       "      <td>142.137028</td>\n",
       "    </tr>\n",
       "    <tr>\n",
       "      <th>2018-12-24</th>\n",
       "      <td>128.684394</td>\n",
       "      <td>118.536206</td>\n",
       "      <td>126.531201</td>\n",
       "      <td>144.134079</td>\n",
       "      <td>110.011329</td>\n",
       "      <td>140.000002</td>\n",
       "    </tr>\n",
       "    <tr>\n",
       "      <th>2018-12-26</th>\n",
       "      <td>134.924503</td>\n",
       "      <td>128.205607</td>\n",
       "      <td>134.078368</td>\n",
       "      <td>147.308279</td>\n",
       "      <td>113.449177</td>\n",
       "      <td>147.487774</td>\n",
       "    </tr>\n",
       "    <tr>\n",
       "      <th>2018-12-27</th>\n",
       "      <td>136.132273</td>\n",
       "      <td>128.530479</td>\n",
       "      <td>134.571842</td>\n",
       "      <td>148.730327</td>\n",
       "      <td>115.879603</td>\n",
       "      <td>149.412720</td>\n",
       "    </tr>\n",
       "    <tr>\n",
       "      <th>2018-12-28</th>\n",
       "      <td>135.758438</td>\n",
       "      <td>127.269245</td>\n",
       "      <td>135.703915</td>\n",
       "      <td>148.603352</td>\n",
       "      <td>114.821805</td>\n",
       "      <td>150.293635</td>\n",
       "    </tr>\n",
       "  </tbody>\n",
       "</table>\n",
       "<p>754 rows × 6 columns</p>\n",
       "</div>"
      ],
      "text/plain": [
       "                   AXP          FB        INTC         MCD          PG  \\\n",
       "Date                                                                     \n",
       "2015-12-31  100.000000  100.000000  100.000000  100.000000  100.000000   \n",
       "2016-01-04   97.181874   97.668639   98.664734   99.525989   98.690340   \n",
       "2016-01-05   95.686557   98.155933   98.200293  100.897239   99.005162   \n",
       "2016-01-06   92.624005   98.385245   96.023225  100.220080   98.048101   \n",
       "2016-01-07   91.790075   93.560094   92.423800   97.900800   97.191785   \n",
       "...                ...         ...         ...         ...         ...   \n",
       "2018-12-21  131.315597  119.386578  130.159648  147.409849  114.557356   \n",
       "2018-12-24  128.684394  118.536206  126.531201  144.134079  110.011329   \n",
       "2018-12-26  134.924503  128.205607  134.078368  147.308279  113.449177   \n",
       "2018-12-27  136.132273  128.530479  134.571842  148.730327  115.879603   \n",
       "2018-12-28  135.758438  127.269245  135.703915  148.603352  114.821805   \n",
       "\n",
       "                   WMT  \n",
       "Date                    \n",
       "2015-12-31  100.000000  \n",
       "2016-01-04  100.261011  \n",
       "2016-01-05  102.642739  \n",
       "2016-01-06  103.670473  \n",
       "2016-01-07  106.084829  \n",
       "...                ...  \n",
       "2018-12-21  142.137028  \n",
       "2018-12-24  140.000002  \n",
       "2018-12-26  147.487774  \n",
       "2018-12-27  149.412720  \n",
       "2018-12-28  150.293635  \n",
       "\n",
       "[754 rows x 6 columns]"
      ]
     },
     "execution_count": 42,
     "metadata": {},
     "output_type": "execute_result"
    }
   ],
   "source": [
    "norm = close.div(close.iloc[0]).mul(100)\n",
    "norm"
   ]
  },
  {
   "cell_type": "code",
   "execution_count": 112,
   "metadata": {},
   "outputs": [
    {
     "data": {
      "image/png": "[encoded data removed]",
      "text/plain": [
       "<Figure size 1080x576 with 1 Axes>"
      ]
     },
     "metadata": {},
     "output_type": "display_data"
    }
   ],
   "source": [
    "norm.plot(figsize=(15,8), fontsize= 13)\n",
    "plt.legend(fontsize = 13)\n",
    "plt.show()"
   ]
  },
  {
   "cell_type": "markdown",
   "metadata": {},
   "source": [
    "- Calculate __monthly returns__ for all six stocks and create a new __returns__ DataFrame!"
   ]
  },
  {
   "cell_type": "code",
   "execution_count": null,
   "metadata": {},
   "outputs": [],
   "source": []
  },
  {
   "cell_type": "markdown",
   "metadata": {},
   "source": [
    "- Calculate the __annualized mean return__ and the __annualized standard deviation__ of returns for all six stocks!"
   ]
  },
  {
   "cell_type": "markdown",
   "metadata": {},
   "source": [
    "- __Visualize risk/return__ of all six stocks in a (total) risk / return framework. (annualized std on the x-axis, annualized mean returns on the y-axis). <br>\n",
    "Identify the __best performing__ stock and the __worst performing__ stock (in terms of __risk / return__)"
   ]
  },
  {
   "cell_type": "markdown",
   "metadata": {},
   "source": [
    "- __Visualize__ the __correlation matrix__ of monthly returns with a __Seaborn Heatmap__. Which stocks-pair shows the __highest (positive) correlation__ of monthly returns?"
   ]
  },
  {
   "cell_type": "markdown",
   "metadata": {},
   "source": [
    "__Ticker Symbols__:\n",
    "- AXP : American Express\n",
    "- FB : Facebook\n",
    "- INTC : Intel\n",
    "- MCD : McDonalds \n",
    "- PG : Procter & Gamble\n",
    "- WMT: Walmart"
   ]
  },
  {
   "cell_type": "markdown",
   "metadata": {},
   "source": [
    "------------------------"
   ]
  },
  {
   "cell_type": "markdown",
   "metadata": {},
   "source": [
    "## Option 2: Guided and Instructed"
   ]
  },
  {
   "cell_type": "markdown",
   "metadata": {},
   "source": [
    "# STOP HERE, IF YOU WANT TO DO THE EXERCISE ON YOUR OWN!"
   ]
  },
  {
   "cell_type": "markdown",
   "metadata": {},
   "source": [
    "+++++++++++++++++++++++++++++++++++++++++++++++++++++++++++++++++++++++++++++++++++++++++++++++++++++++++++++++++++++++++"
   ]
  },
  {
   "cell_type": "code",
   "execution_count": 35,
   "metadata": {},
   "outputs": [],
   "source": [
    "#run the cell!\n",
    "import pandas as pd\n",
    "import numpy as np\n",
    "import matplotlib.pyplot as plt\n",
    "plt.style.use(\"seaborn\")"
   ]
  },
  {
   "cell_type": "markdown",
   "metadata": {},
   "source": [
    "1. __Import__ daily stock price data (__us_stocks.csv__) and __inspect__! Handle the __MultiIndex__! __Fill in the gaps__!"
   ]
  },
  {
   "cell_type": "code",
   "execution_count": 36,
   "metadata": {},
   "outputs": [
    {
     "ename": "SyntaxError",
     "evalue": "invalid syntax (4109046448.py, line 1)",
     "output_type": "error",
     "traceback": [
      "\u001b[0;36m  File \u001b[0;32m\"/tmp/ipykernel_30274/4109046448.py\"\u001b[0;36m, line \u001b[0;32m1\u001b[0m\n\u001b[0;31m    stocks = pd.read_csv(\"us_stocks.csv\", header = ---, index_col= ---, parse_dates= ---)\u001b[0m\n\u001b[0m                                                      ^\u001b[0m\n\u001b[0;31mSyntaxError\u001b[0m\u001b[0;31m:\u001b[0m invalid syntax\n"
     ]
    }
   ],
   "source": [
    "stocks = pd.read_csv(\"us_stocks.csv\", header = ---, index_col= ---, parse_dates= ---)"
   ]
  },
  {
   "cell_type": "code",
   "execution_count": null,
   "metadata": {},
   "outputs": [],
   "source": [
    "# run the cell!\n",
    "stocks.head()"
   ]
  },
  {
   "cell_type": "markdown",
   "metadata": {},
   "source": [
    "Ticker Symbols:\n",
    "- AXP : American Express\n",
    "- FB : Facebook\n",
    "- INTC : Intel\n",
    "- MCD : McDonalds \n",
    "- PG : Procter & Gamble\n",
    "- WMT: Walmart"
   ]
  },
  {
   "cell_type": "markdown",
   "metadata": {},
   "source": [
    "2. __Select__ the Adjusted Close (__Adj Close__) for all six stocks from __31-12-2015__ (incl.) until __31-12-2018__ (incl.)! __Overwrite__ stocks! <br>\n",
    "__How many Timestamps__ / Days are in the DataFrame now?"
   ]
  },
  {
   "cell_type": "code",
   "execution_count": null,
   "metadata": {
    "scrolled": true
   },
   "outputs": [],
   "source": []
  },
  {
   "cell_type": "code",
   "execution_count": null,
   "metadata": {},
   "outputs": [],
   "source": [
    "# run the cell!\n",
    "stocks.head()"
   ]
  },
  {
   "cell_type": "code",
   "execution_count": null,
   "metadata": {},
   "outputs": [],
   "source": [
    "# run the cell!\n",
    "stocks.info()"
   ]
  },
  {
   "cell_type": "markdown",
   "metadata": {},
   "source": [
    "We have ... 754 Days."
   ]
  },
  {
   "cell_type": "markdown",
   "metadata": {},
   "source": [
    "3. __Plot__ stocks (figsize (12, 8)!"
   ]
  },
  {
   "cell_type": "code",
   "execution_count": null,
   "metadata": {},
   "outputs": [],
   "source": []
  },
  {
   "cell_type": "markdown",
   "metadata": {},
   "source": [
    "4. __Bring__ the six stocks to the __same Base Value__ (100) and __plot__ again! __Fill in the gaps!__"
   ]
  },
  {
   "cell_type": "code",
   "execution_count": null,
   "metadata": {},
   "outputs": [],
   "source": [
    "stocks.---(stocks.iloc[0]).---(figsize = (12,8))\n",
    "plt.show()"
   ]
  },
  {
   "cell_type": "markdown",
   "metadata": {},
   "source": [
    "Still hard to compare performance, right?"
   ]
  },
  {
   "cell_type": "markdown",
   "metadata": {},
   "source": [
    "5. __Resample__ stocks to __monthly__ frequency (__last__ trading price of each month, index should show last calender day)!<br> __Save__ the resampled Dataframe in the variable __stocks_m__!"
   ]
  },
  {
   "cell_type": "code",
   "execution_count": null,
   "metadata": {},
   "outputs": [],
   "source": []
  },
  {
   "cell_type": "code",
   "execution_count": null,
   "metadata": {
    "scrolled": true
   },
   "outputs": [],
   "source": [
    "# run the cell!\n",
    "stocks_m.head()"
   ]
  },
  {
   "cell_type": "markdown",
   "metadata": {},
   "source": [
    "6. Calculate __monthly returns__ and __save__ the result in the variable __ret__! (drop NaN Values!)"
   ]
  },
  {
   "cell_type": "code",
   "execution_count": null,
   "metadata": {},
   "outputs": [],
   "source": []
  },
  {
   "cell_type": "code",
   "execution_count": null,
   "metadata": {
    "scrolled": true
   },
   "outputs": [],
   "source": [
    "#run the cell!\n",
    "ret"
   ]
  },
  {
   "cell_type": "markdown",
   "metadata": {},
   "source": [
    "7. Calculate __mean__ and  __standard deviation__ of monthly returns! __Save__ the result in the variable __summary__!<br>\n",
    "__Fill in the gaps!__"
   ]
  },
  {
   "cell_type": "code",
   "execution_count": null,
   "metadata": {},
   "outputs": [],
   "source": [
    "summary = ret.describe().T.loc[:, [---, ---]]"
   ]
  },
  {
   "cell_type": "code",
   "execution_count": null,
   "metadata": {},
   "outputs": [],
   "source": [
    "#run the cell!\n",
    "summary"
   ]
  },
  {
   "cell_type": "markdown",
   "metadata": {},
   "source": [
    "8. __Annualize__ mean and standard deviation of returns! __Fill in the gaps!__"
   ]
  },
  {
   "cell_type": "code",
   "execution_count": null,
   "metadata": {},
   "outputs": [],
   "source": [
    "summary[\"mean\"] = summary[\"mean\"]*---\n",
    "summary[\"std\"] = summary[\"std\"]*---(---)"
   ]
  },
  {
   "cell_type": "code",
   "execution_count": null,
   "metadata": {},
   "outputs": [],
   "source": [
    "#run the cell!\n",
    "summary"
   ]
  },
  {
   "cell_type": "markdown",
   "metadata": {},
   "source": [
    "9. __Plot__ and __compare__ the performance of the six stocks in a __(total) risk / return__ framework! __Fill in the gaps__! <br>\n",
    "Can you identify the __best performing__ stock and the __worst performing__ stock (in terms of __risk / return__)?"
   ]
  },
  {
   "cell_type": "code",
   "execution_count": null,
   "metadata": {},
   "outputs": [],
   "source": [
    "summary.plot(kind = \"---\", x = \"---\", y = \"---\", figsize = (12, 8), s = 50, fontsize = 15, xlim = (0.1, 0.3), ylim = (0, 0.25))\n",
    "for i in summary.index:\n",
    "    plt.annotate(i, xy=(summary.loc[i, \"std\"]+0.002, summary.loc[i, \"mean\"]+0.002), size = 15)\n",
    "plt.xlabel(\"ann. Risk(std)\", fontsize = 15)\n",
    "plt.ylabel(\"ann. Return\", fontsize = 15)\n",
    "plt.title(\"Risk/Return\", fontsize = 20)\n",
    "plt.show()"
   ]
  },
  {
   "cell_type": "markdown",
   "metadata": {},
   "source": [
    "In a (total) risk / return framework, McDonalds (most likely) showed the best performance (upper left) and facebook the worst performance (lower right)!"
   ]
  },
  {
   "cell_type": "markdown",
   "metadata": {},
   "source": [
    "10. Prepare the __correlation matrix__ of monthly returns. Which stocks-pair shows the __highest (positive) correlation__ of monthly returns? "
   ]
  },
  {
   "cell_type": "code",
   "execution_count": null,
   "metadata": {},
   "outputs": [],
   "source": []
  },
  {
   "cell_type": "markdown",
   "metadata": {},
   "source": [
    "The highest positive correlation of returns is between ... Walmart and McDonalds."
   ]
  },
  {
   "cell_type": "markdown",
   "metadata": {},
   "source": [
    "11. __Visualize__ the correlation matrix with a __Seaborn Heatmap__! __Fill in the gaps!__"
   ]
  },
  {
   "cell_type": "code",
   "execution_count": null,
   "metadata": {},
   "outputs": [],
   "source": [
    "# run the cell!\n",
    "import seaborn as sns"
   ]
  },
  {
   "cell_type": "code",
   "execution_count": null,
   "metadata": {
    "scrolled": true
   },
   "outputs": [],
   "source": [
    "plt.figure(figsize=(12,8))\n",
    "sns.set(font_scale=1.0)\n",
    "sns.---(---, cmap = \"RdYlGn\", annot = True, vmin = -0.5, vmax = 0.6, center = 0)\n",
    "plt.show()"
   ]
  },
  {
   "cell_type": "code",
   "execution_count": null,
   "metadata": {},
   "outputs": [],
   "source": []
  },
  {
   "cell_type": "markdown",
   "metadata": {},
   "source": [
    "# Solutions (Stop here if you want to code on your own!)"
   ]
  },
  {
   "cell_type": "markdown",
   "metadata": {},
   "source": [
    "# ++++++++++++++++++++++++++++++++++++++++++++++++++++++++++"
   ]
  },
  {
   "cell_type": "code",
   "execution_count": null,
   "metadata": {},
   "outputs": [],
   "source": []
  },
  {
   "cell_type": "code",
   "execution_count": null,
   "metadata": {},
   "outputs": [],
   "source": [
    "#run the cell!\n",
    "import pandas as pd\n",
    "import numpy as np\n",
    "import matplotlib.pyplot as plt\n",
    "plt.style.use(\"seaborn\")"
   ]
  },
  {
   "cell_type": "markdown",
   "metadata": {},
   "source": [
    "1. __Import__ daily stock price data (__us_stocks.csv__) and __inspect__! Handle the __MultiIndex__! __Fill in the gaps__!"
   ]
  },
  {
   "cell_type": "code",
   "execution_count": null,
   "metadata": {},
   "outputs": [],
   "source": [
    "stocks = pd.read_csv(\"us_stocks.csv\", header = [0,1], index_col= [0], parse_dates= [0])"
   ]
  },
  {
   "cell_type": "code",
   "execution_count": null,
   "metadata": {},
   "outputs": [],
   "source": [
    "# run the cell!\n",
    "stocks.head()"
   ]
  },
  {
   "cell_type": "markdown",
   "metadata": {},
   "source": [
    "Ticker Symbols:\n",
    "- AXP : American Express\n",
    "- FB : Facebook\n",
    "- INTC : Intel\n",
    "- MCD : McDonalds \n",
    "- PG : Procter & Gamble\n",
    "- WMT: Walmart"
   ]
  },
  {
   "cell_type": "markdown",
   "metadata": {},
   "source": [
    "2. __Select__ the Adjusted Close (__Adj Close__) for all six stocks from __31-12-2015__ (incl.) until __31-12-2018__ (incl.)! __Overwrite__ stocks! <br>\n",
    "__How many Timestamps__ / Days are in the DataFrame now?"
   ]
  },
  {
   "cell_type": "code",
   "execution_count": null,
   "metadata": {
    "scrolled": true
   },
   "outputs": [],
   "source": [
    "stocks = stocks.loc[\"31-12-2015\":\"31-12-2018\", \"Adj Close\"]"
   ]
  },
  {
   "cell_type": "code",
   "execution_count": null,
   "metadata": {},
   "outputs": [],
   "source": [
    "# run the cell!\n",
    "stocks.head()"
   ]
  },
  {
   "cell_type": "code",
   "execution_count": null,
   "metadata": {},
   "outputs": [],
   "source": [
    "# run the cell!\n",
    "stocks.info()"
   ]
  },
  {
   "cell_type": "markdown",
   "metadata": {},
   "source": [
    "We have ... 754 Days."
   ]
  },
  {
   "cell_type": "markdown",
   "metadata": {},
   "source": [
    "3. __Plot__ stocks (figsize (12, 8)!"
   ]
  },
  {
   "cell_type": "code",
   "execution_count": null,
   "metadata": {},
   "outputs": [],
   "source": [
    "stocks.plot(figsize = (12,8))\n",
    "plt.show()"
   ]
  },
  {
   "cell_type": "markdown",
   "metadata": {},
   "source": [
    "4. __Bring__ the six stocks to the __same Base Value__ (100) and __plot__ again! __Fill in the gaps!__"
   ]
  },
  {
   "cell_type": "code",
   "execution_count": null,
   "metadata": {},
   "outputs": [],
   "source": [
    "stocks.div(stocks.iloc[0]).mul(100).plot(figsize = (12,8))\n",
    "plt.show()"
   ]
  },
  {
   "cell_type": "markdown",
   "metadata": {},
   "source": [
    "Still hard to compare performance, right?"
   ]
  },
  {
   "cell_type": "markdown",
   "metadata": {},
   "source": [
    "5. __Resample__ stocks to __monthly__ frequency (__last__ trading price of each month, index should show last calender day)!<br> __Save__ the resampled Dataframe in the variable __stocks_m__!"
   ]
  },
  {
   "cell_type": "code",
   "execution_count": null,
   "metadata": {},
   "outputs": [],
   "source": [
    "stocks_m = stocks.resample(\"M\").last()"
   ]
  },
  {
   "cell_type": "code",
   "execution_count": null,
   "metadata": {
    "scrolled": true
   },
   "outputs": [],
   "source": [
    "# run the cell!\n",
    "stocks_m.head()"
   ]
  },
  {
   "cell_type": "markdown",
   "metadata": {},
   "source": [
    "6. Calculate __monthly returns__ and __save__ the result in the variable __ret__! (drop NaN Values!)"
   ]
  },
  {
   "cell_type": "code",
   "execution_count": null,
   "metadata": {},
   "outputs": [],
   "source": [
    "ret = stocks_m.pct_change().dropna()"
   ]
  },
  {
   "cell_type": "code",
   "execution_count": null,
   "metadata": {
    "scrolled": true
   },
   "outputs": [],
   "source": [
    "#run the cell!\n",
    "ret"
   ]
  },
  {
   "cell_type": "markdown",
   "metadata": {},
   "source": [
    "7. Calculate __mean__ and  __standard deviation__ of monthly returns! __Save__ the result in the variable __summary__!<br>\n",
    "__Fill in the gaps!__"
   ]
  },
  {
   "cell_type": "code",
   "execution_count": null,
   "metadata": {},
   "outputs": [],
   "source": [
    "summary = ret.describe().T.loc[:, [\"mean\", \"std\"]]"
   ]
  },
  {
   "cell_type": "code",
   "execution_count": null,
   "metadata": {},
   "outputs": [],
   "source": [
    "#run the cell!\n",
    "summary"
   ]
  },
  {
   "cell_type": "markdown",
   "metadata": {},
   "source": [
    "8. __Annualize__ mean and standard deviation of returns! __Fill in the gaps!__"
   ]
  },
  {
   "cell_type": "code",
   "execution_count": null,
   "metadata": {},
   "outputs": [],
   "source": [
    "summary[\"mean\"] = summary[\"mean\"]*12\n",
    "summary[\"std\"] = summary[\"std\"]*np.sqrt(12)"
   ]
  },
  {
   "cell_type": "code",
   "execution_count": null,
   "metadata": {},
   "outputs": [],
   "source": [
    "#run the cell!\n",
    "summary"
   ]
  },
  {
   "cell_type": "markdown",
   "metadata": {},
   "source": [
    "9. __Plot__ and __compare__ the performance of the six stocks in a __(total) risk / return__ framework! __Fill in the gaps__! <br>\n",
    "Can you identify the __best performing__ stock and the __worst performing__ stock (in terms of __risk / return__)?"
   ]
  },
  {
   "cell_type": "code",
   "execution_count": null,
   "metadata": {},
   "outputs": [],
   "source": [
    "summary.plot(kind = \"scatter\", x = \"std\", y = \"mean\", figsize = (12, 8), s = 50, fontsize = 15, xlim = (0.1, 0.3), ylim = (0, 0.25))\n",
    "for i in summary.index:\n",
    "    plt.annotate(i, xy=(summary.loc[i, \"std\"]+0.002, summary.loc[i, \"mean\"]+0.002), size = 15)\n",
    "plt.xlabel(\"ann. Risk(std)\", fontsize = 15)\n",
    "plt.ylabel(\"ann. Return\", fontsize = 15)\n",
    "plt.title(\"Risk/Return\", fontsize = 20)\n",
    "plt.show()"
   ]
  },
  {
   "cell_type": "markdown",
   "metadata": {},
   "source": [
    "In a (total) risk / return framework, McDonalds (most likely) showed the best performance (upper left) and facebook the worst performance (lower right)!"
   ]
  },
  {
   "cell_type": "markdown",
   "metadata": {},
   "source": [
    "10. Prepare the __correlation matrix__ of monthly returns. Which stocks-pair shows the __highest (positive) correlation__ of monthly returns? "
   ]
  },
  {
   "cell_type": "code",
   "execution_count": null,
   "metadata": {},
   "outputs": [],
   "source": [
    "ret.corr()"
   ]
  },
  {
   "cell_type": "markdown",
   "metadata": {},
   "source": [
    "The highest positive correlation of returns is between ... Walmart and McDonalds."
   ]
  },
  {
   "cell_type": "markdown",
   "metadata": {},
   "source": [
    "11. __Visualize__ the correlation matrix with a __Seaborn Heatmap__! __Fill in the gaps!__"
   ]
  },
  {
   "cell_type": "code",
   "execution_count": null,
   "metadata": {},
   "outputs": [],
   "source": [
    "# run the cell!\n",
    "import seaborn as sns"
   ]
  },
  {
   "cell_type": "code",
   "execution_count": null,
   "metadata": {
    "scrolled": false
   },
   "outputs": [],
   "source": [
    "plt.figure(figsize=(12,8))\n",
    "sns.set(font_scale=1.0)\n",
    "sns.heatmap(ret.corr(), cmap = \"RdYlGn\", annot = True, vmin = -0.5, vmax = 0.6, center = 0)\n",
    "plt.show()"
   ]
  },
  {
   "cell_type": "markdown",
   "metadata": {},
   "source": [
    "# Well Done!"
   ]
  },
  {
   "cell_type": "markdown",
   "metadata": {},
   "source": [
    "-------------------"
   ]
  },
  {
   "cell_type": "code",
   "execution_count": null,
   "metadata": {},
   "outputs": [],
   "source": []
  }
 ],
 "metadata": {
  "kernelspec": {
   "display_name": "Python 3 (ipykernel)",
   "language": "python",
   "name": "python3"
  },
  "language_info": {
   "codemirror_mode": {
    "name": "ipython",
    "version": 3
   },
   "file_extension": ".py",
   "mimetype": "text/x-python",
   "name": "python",
   "nbconvert_exporter": "python",
   "pygments_lexer": "ipython3",
   "version": "3.7.13"
  }
 },
 "nbformat": 4,
 "nbformat_minor": 2
}
