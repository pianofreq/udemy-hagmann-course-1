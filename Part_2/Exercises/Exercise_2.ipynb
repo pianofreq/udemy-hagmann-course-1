{
 "cells": [
  {
   "cell_type": "markdown",
   "metadata": {},
   "source": [
    "# Coding Exercises"
   ]
  },
  {
   "cell_type": "markdown",
   "metadata": {},
   "source": [
    "## Financial Data Analysis"
   ]
  },
  {
   "cell_type": "markdown",
   "metadata": {},
   "source": [
    "### Exercise 2: Financial Time Series"
   ]
  },
  {
   "cell_type": "markdown",
   "metadata": {},
   "source": [
    "Now, you will have the opportunity to analyze your own dataset. <br>\n",
    "__Follow the instructions__ and insert your code! You are either requested to \n",
    "- Complete the Code and __Fill in the gaps__. Gaps are marked with \"__---__\" and are __placeholders__ for your code fragment \n",
    "- Write Code completely __on your own__ "
   ]
  },
  {
   "cell_type": "markdown",
   "metadata": {},
   "source": [
    "In some exercises, you will find questions that can only be answered, if your code is correct and returns the right output! The correct answer is provided below your coding cell. There you can check whether your code is correct."
   ]
  },
  {
   "cell_type": "markdown",
   "metadata": {},
   "source": [
    "### Have Fun!"
   ]
  },
  {
   "cell_type": "markdown",
   "metadata": {},
   "source": [
    "--------------------------------------------------------------------------------------------------------------"
   ]
  },
  {
   "cell_type": "markdown",
   "metadata": {},
   "source": [
    "## Option 1: Self_guided"
   ]
  },
  {
   "cell_type": "code",
   "execution_count": 214,
   "metadata": {},
   "outputs": [
    {
     "data": {
      "text/html": [
       "<div>\n",
       "<style scoped>\n",
       "    .dataframe tbody tr th:only-of-type {\n",
       "        vertical-align: middle;\n",
       "    }\n",
       "\n",
       "    .dataframe tbody tr th {\n",
       "        vertical-align: top;\n",
       "    }\n",
       "\n",
       "    .dataframe thead th {\n",
       "        text-align: right;\n",
       "    }\n",
       "</style>\n",
       "<table border=\"1\" class=\"dataframe\">\n",
       "  <thead>\n",
       "    <tr style=\"text-align: right;\">\n",
       "      <th></th>\n",
       "      <th>AXP</th>\n",
       "      <th>FB</th>\n",
       "      <th>INTC</th>\n",
       "      <th>MCD</th>\n",
       "      <th>PG</th>\n",
       "      <th>WMT</th>\n",
       "    </tr>\n",
       "    <tr>\n",
       "      <th>Date</th>\n",
       "      <th></th>\n",
       "      <th></th>\n",
       "      <th></th>\n",
       "      <th></th>\n",
       "      <th></th>\n",
       "      <th></th>\n",
       "    </tr>\n",
       "  </thead>\n",
       "  <tbody>\n",
       "    <tr>\n",
       "      <th>2017-01-03</th>\n",
       "      <td>74.889999</td>\n",
       "      <td>116.029999</td>\n",
       "      <td>36.610001</td>\n",
       "      <td>121.860001</td>\n",
       "      <td>83.879997</td>\n",
       "      <td>69.239998</td>\n",
       "    </tr>\n",
       "    <tr>\n",
       "      <th>2017-01-04</th>\n",
       "      <td>75.260002</td>\n",
       "      <td>117.550003</td>\n",
       "      <td>36.709999</td>\n",
       "      <td>119.000000</td>\n",
       "      <td>84.449997</td>\n",
       "      <td>68.660004</td>\n",
       "    </tr>\n",
       "    <tr>\n",
       "      <th>2017-01-05</th>\n",
       "      <td>76.000000</td>\n",
       "      <td>118.860001</td>\n",
       "      <td>36.450001</td>\n",
       "      <td>119.339996</td>\n",
       "      <td>84.410004</td>\n",
       "      <td>68.430000</td>\n",
       "    </tr>\n",
       "    <tr>\n",
       "      <th>2017-01-06</th>\n",
       "      <td>75.400002</td>\n",
       "      <td>120.980003</td>\n",
       "      <td>36.590000</td>\n",
       "      <td>118.930000</td>\n",
       "      <td>84.940002</td>\n",
       "      <td>68.410004</td>\n",
       "    </tr>\n",
       "    <tr>\n",
       "      <th>2017-01-09</th>\n",
       "      <td>76.139999</td>\n",
       "      <td>123.550003</td>\n",
       "      <td>36.480000</td>\n",
       "      <td>120.760002</td>\n",
       "      <td>84.059998</td>\n",
       "      <td>68.330002</td>\n",
       "    </tr>\n",
       "    <tr>\n",
       "      <th>2017-01-10</th>\n",
       "      <td>76.519997</td>\n",
       "      <td>124.820000</td>\n",
       "      <td>36.549999</td>\n",
       "      <td>120.459999</td>\n",
       "      <td>84.339996</td>\n",
       "      <td>68.639999</td>\n",
       "    </tr>\n",
       "    <tr>\n",
       "      <th>2017-01-11</th>\n",
       "      <td>76.669998</td>\n",
       "      <td>124.349998</td>\n",
       "      <td>36.509998</td>\n",
       "      <td>120.930000</td>\n",
       "      <td>83.389999</td>\n",
       "      <td>68.199997</td>\n",
       "    </tr>\n",
       "    <tr>\n",
       "      <th>2017-01-12</th>\n",
       "      <td>76.830002</td>\n",
       "      <td>125.610001</td>\n",
       "      <td>36.830002</td>\n",
       "      <td>120.300003</td>\n",
       "      <td>83.709999</td>\n",
       "      <td>68.360001</td>\n",
       "    </tr>\n",
       "    <tr>\n",
       "      <th>2017-01-13</th>\n",
       "      <td>76.930000</td>\n",
       "      <td>127.489998</td>\n",
       "      <td>36.709999</td>\n",
       "      <td>122.239998</td>\n",
       "      <td>83.849998</td>\n",
       "      <td>67.980003</td>\n",
       "    </tr>\n",
       "    <tr>\n",
       "      <th>2017-01-17</th>\n",
       "      <td>77.400002</td>\n",
       "      <td>128.039993</td>\n",
       "      <td>36.669998</td>\n",
       "      <td>120.750000</td>\n",
       "      <td>83.900002</td>\n",
       "      <td>68.099998</td>\n",
       "    </tr>\n",
       "    <tr>\n",
       "      <th>2017-01-18</th>\n",
       "      <td>77.110001</td>\n",
       "      <td>128.410004</td>\n",
       "      <td>36.889999</td>\n",
       "      <td>122.809998</td>\n",
       "      <td>84.800003</td>\n",
       "      <td>67.879997</td>\n",
       "    </tr>\n",
       "    <tr>\n",
       "      <th>2017-01-19</th>\n",
       "      <td>77.610001</td>\n",
       "      <td>128.229996</td>\n",
       "      <td>36.509998</td>\n",
       "      <td>122.239998</td>\n",
       "      <td>84.629997</td>\n",
       "      <td>68.129997</td>\n",
       "    </tr>\n",
       "    <tr>\n",
       "      <th>2017-01-20</th>\n",
       "      <td>75.989998</td>\n",
       "      <td>128.100006</td>\n",
       "      <td>36.759998</td>\n",
       "      <td>122.260002</td>\n",
       "      <td>86.889999</td>\n",
       "      <td>67.739998</td>\n",
       "    </tr>\n",
       "    <tr>\n",
       "      <th>2017-01-23</th>\n",
       "      <td>75.919998</td>\n",
       "      <td>127.309998</td>\n",
       "      <td>37.070000</td>\n",
       "      <td>121.690002</td>\n",
       "      <td>87.089996</td>\n",
       "      <td>67.010002</td>\n",
       "    </tr>\n",
       "    <tr>\n",
       "      <th>2017-01-24</th>\n",
       "      <td>76.330002</td>\n",
       "      <td>129.380005</td>\n",
       "      <td>36.840000</td>\n",
       "      <td>121.970001</td>\n",
       "      <td>87.220001</td>\n",
       "      <td>66.889999</td>\n",
       "    </tr>\n",
       "    <tr>\n",
       "      <th>2017-01-25</th>\n",
       "      <td>78.000000</td>\n",
       "      <td>130.000000</td>\n",
       "      <td>37.869999</td>\n",
       "      <td>121.489998</td>\n",
       "      <td>87.839996</td>\n",
       "      <td>67.519997</td>\n",
       "    </tr>\n",
       "    <tr>\n",
       "      <th>2017-01-26</th>\n",
       "      <td>76.949997</td>\n",
       "      <td>131.630005</td>\n",
       "      <td>37.820000</td>\n",
       "      <td>121.860001</td>\n",
       "      <td>87.120003</td>\n",
       "      <td>67.129997</td>\n",
       "    </tr>\n",
       "    <tr>\n",
       "      <th>2017-01-27</th>\n",
       "      <td>77.000000</td>\n",
       "      <td>132.679993</td>\n",
       "      <td>38.000000</td>\n",
       "      <td>122.269997</td>\n",
       "      <td>86.449997</td>\n",
       "      <td>66.860001</td>\n",
       "    </tr>\n",
       "    <tr>\n",
       "      <th>2017-01-30</th>\n",
       "      <td>76.830002</td>\n",
       "      <td>131.580002</td>\n",
       "      <td>37.740002</td>\n",
       "      <td>122.809998</td>\n",
       "      <td>86.779999</td>\n",
       "      <td>65.629997</td>\n",
       "    </tr>\n",
       "    <tr>\n",
       "      <th>2017-01-31</th>\n",
       "      <td>76.860001</td>\n",
       "      <td>130.169998</td>\n",
       "      <td>37.220001</td>\n",
       "      <td>123.019997</td>\n",
       "      <td>86.629997</td>\n",
       "      <td>66.209999</td>\n",
       "    </tr>\n",
       "  </tbody>\n",
       "</table>\n",
       "</div>"
      ],
      "text/plain": [
       "                  AXP          FB       INTC         MCD         PG        WMT\n",
       "Date                                                                          \n",
       "2017-01-03  74.889999  116.029999  36.610001  121.860001  83.879997  69.239998\n",
       "2017-01-04  75.260002  117.550003  36.709999  119.000000  84.449997  68.660004\n",
       "2017-01-05  76.000000  118.860001  36.450001  119.339996  84.410004  68.430000\n",
       "2017-01-06  75.400002  120.980003  36.590000  118.930000  84.940002  68.410004\n",
       "2017-01-09  76.139999  123.550003  36.480000  120.760002  84.059998  68.330002\n",
       "2017-01-10  76.519997  124.820000  36.549999  120.459999  84.339996  68.639999\n",
       "2017-01-11  76.669998  124.349998  36.509998  120.930000  83.389999  68.199997\n",
       "2017-01-12  76.830002  125.610001  36.830002  120.300003  83.709999  68.360001\n",
       "2017-01-13  76.930000  127.489998  36.709999  122.239998  83.849998  67.980003\n",
       "2017-01-17  77.400002  128.039993  36.669998  120.750000  83.900002  68.099998\n",
       "2017-01-18  77.110001  128.410004  36.889999  122.809998  84.800003  67.879997\n",
       "2017-01-19  77.610001  128.229996  36.509998  122.239998  84.629997  68.129997\n",
       "2017-01-20  75.989998  128.100006  36.759998  122.260002  86.889999  67.739998\n",
       "2017-01-23  75.919998  127.309998  37.070000  121.690002  87.089996  67.010002\n",
       "2017-01-24  76.330002  129.380005  36.840000  121.970001  87.220001  66.889999\n",
       "2017-01-25  78.000000  130.000000  37.869999  121.489998  87.839996  67.519997\n",
       "2017-01-26  76.949997  131.630005  37.820000  121.860001  87.120003  67.129997\n",
       "2017-01-27  77.000000  132.679993  38.000000  122.269997  86.449997  66.860001\n",
       "2017-01-30  76.830002  131.580002  37.740002  122.809998  86.779999  65.629997\n",
       "2017-01-31  76.860001  130.169998  37.220001  123.019997  86.629997  66.209999"
      ]
     },
     "execution_count": 214,
     "metadata": {},
     "output_type": "execute_result"
    }
   ],
   "source": [
    "import pandas as pd\n",
    "import yfinance as yf\n",
    "df = pd.read_csv(\"us_stocks.csv\", header = [0,1], index_col=[0], parse_dates=[0])\n",
    "stocks = df.loc[\"31-12-2015\" : \"31-12-2018\"]\n",
    "stocks.columns = stocks.columns.to_flat_index()\n",
    "stocks.columns = pd.MultiIndex.from_tuples(stocks.columns)\n",
    "stocks.swaplevel(axis=1).sort_index(axis = 1)\n",
    "stocks.loc[\"2017-01\",\"Open\"]\n",
    "\n",
    "#The adjusted close price of FB on Jan 07, 2016\n",
    "#stocks[\"Adj Close\"][\"FB\"].loc[\"2016-01-07\"]"
   ]
  },
  {
   "cell_type": "markdown",
   "metadata": {},
   "source": [
    "Import the us stocks dataset (__us_stocks.csv__) and select the Adjusted Close (__Adj Close__) for all six stocks from __31-12-2015__ (incl.) until __31-12-2018__ (incl.). Save the DataFrame in the variable __stocks__ and work through the next questions with this DataFrame!"
   ]
  },
  {
   "cell_type": "code",
   "execution_count": 217,
   "metadata": {},
   "outputs": [
    {
     "data": {
      "text/html": [
       "<div>\n",
       "<style scoped>\n",
       "    .dataframe tbody tr th:only-of-type {\n",
       "        vertical-align: middle;\n",
       "    }\n",
       "\n",
       "    .dataframe tbody tr th {\n",
       "        vertical-align: top;\n",
       "    }\n",
       "\n",
       "    .dataframe thead th {\n",
       "        text-align: right;\n",
       "    }\n",
       "</style>\n",
       "<table border=\"1\" class=\"dataframe\">\n",
       "  <thead>\n",
       "    <tr style=\"text-align: right;\">\n",
       "      <th></th>\n",
       "      <th>AXP</th>\n",
       "      <th>FB</th>\n",
       "      <th>INTC</th>\n",
       "      <th>MCD</th>\n",
       "      <th>PG</th>\n",
       "      <th>WMT</th>\n",
       "    </tr>\n",
       "    <tr>\n",
       "      <th>Date</th>\n",
       "      <th></th>\n",
       "      <th></th>\n",
       "      <th></th>\n",
       "      <th></th>\n",
       "      <th></th>\n",
       "      <th></th>\n",
       "    </tr>\n",
       "  </thead>\n",
       "  <tbody>\n",
       "    <tr>\n",
       "      <th>2015-12-31</th>\n",
       "      <td>69.550003</td>\n",
       "      <td>104.660004</td>\n",
       "      <td>34.450001</td>\n",
       "      <td>118.139999</td>\n",
       "      <td>79.410004</td>\n",
       "      <td>61.299999</td>\n",
       "    </tr>\n",
       "    <tr>\n",
       "      <th>2016-01-04</th>\n",
       "      <td>67.589996</td>\n",
       "      <td>102.220001</td>\n",
       "      <td>33.990002</td>\n",
       "      <td>117.580002</td>\n",
       "      <td>78.370003</td>\n",
       "      <td>61.459999</td>\n",
       "    </tr>\n",
       "    <tr>\n",
       "      <th>2016-01-05</th>\n",
       "      <td>66.550003</td>\n",
       "      <td>102.730003</td>\n",
       "      <td>33.830002</td>\n",
       "      <td>119.199997</td>\n",
       "      <td>78.620003</td>\n",
       "      <td>62.919998</td>\n",
       "    </tr>\n",
       "    <tr>\n",
       "      <th>2016-01-06</th>\n",
       "      <td>64.419998</td>\n",
       "      <td>102.970001</td>\n",
       "      <td>33.080002</td>\n",
       "      <td>118.400002</td>\n",
       "      <td>77.860001</td>\n",
       "      <td>63.549999</td>\n",
       "    </tr>\n",
       "    <tr>\n",
       "      <th>2016-01-07</th>\n",
       "      <td>63.840000</td>\n",
       "      <td>97.919998</td>\n",
       "      <td>31.840000</td>\n",
       "      <td>115.660004</td>\n",
       "      <td>77.180000</td>\n",
       "      <td>65.029999</td>\n",
       "    </tr>\n",
       "    <tr>\n",
       "      <th>...</th>\n",
       "      <td>...</td>\n",
       "      <td>...</td>\n",
       "      <td>...</td>\n",
       "      <td>...</td>\n",
       "      <td>...</td>\n",
       "      <td>...</td>\n",
       "    </tr>\n",
       "    <tr>\n",
       "      <th>2018-12-21</th>\n",
       "      <td>91.330002</td>\n",
       "      <td>124.949997</td>\n",
       "      <td>44.840000</td>\n",
       "      <td>174.149994</td>\n",
       "      <td>90.970001</td>\n",
       "      <td>87.129997</td>\n",
       "    </tr>\n",
       "    <tr>\n",
       "      <th>2018-12-24</th>\n",
       "      <td>89.500000</td>\n",
       "      <td>124.059998</td>\n",
       "      <td>43.590000</td>\n",
       "      <td>170.279999</td>\n",
       "      <td>87.360001</td>\n",
       "      <td>85.820000</td>\n",
       "    </tr>\n",
       "    <tr>\n",
       "      <th>2018-12-26</th>\n",
       "      <td>93.839996</td>\n",
       "      <td>134.179993</td>\n",
       "      <td>46.189999</td>\n",
       "      <td>174.029999</td>\n",
       "      <td>90.089996</td>\n",
       "      <td>90.410004</td>\n",
       "    </tr>\n",
       "    <tr>\n",
       "      <th>2018-12-27</th>\n",
       "      <td>94.680000</td>\n",
       "      <td>134.520004</td>\n",
       "      <td>46.360001</td>\n",
       "      <td>175.710007</td>\n",
       "      <td>92.019997</td>\n",
       "      <td>91.589996</td>\n",
       "    </tr>\n",
       "    <tr>\n",
       "      <th>2018-12-28</th>\n",
       "      <td>94.419998</td>\n",
       "      <td>133.199997</td>\n",
       "      <td>46.750000</td>\n",
       "      <td>175.559998</td>\n",
       "      <td>91.180000</td>\n",
       "      <td>92.129997</td>\n",
       "    </tr>\n",
       "  </tbody>\n",
       "</table>\n",
       "<p>754 rows × 6 columns</p>\n",
       "</div>"
      ],
      "text/plain": [
       "                  AXP          FB       INTC         MCD         PG        WMT\n",
       "Date                                                                          \n",
       "2015-12-31  69.550003  104.660004  34.450001  118.139999  79.410004  61.299999\n",
       "2016-01-04  67.589996  102.220001  33.990002  117.580002  78.370003  61.459999\n",
       "2016-01-05  66.550003  102.730003  33.830002  119.199997  78.620003  62.919998\n",
       "2016-01-06  64.419998  102.970001  33.080002  118.400002  77.860001  63.549999\n",
       "2016-01-07  63.840000   97.919998  31.840000  115.660004  77.180000  65.029999\n",
       "...               ...         ...        ...         ...        ...        ...\n",
       "2018-12-21  91.330002  124.949997  44.840000  174.149994  90.970001  87.129997\n",
       "2018-12-24  89.500000  124.059998  43.590000  170.279999  87.360001  85.820000\n",
       "2018-12-26  93.839996  134.179993  46.189999  174.029999  90.089996  90.410004\n",
       "2018-12-27  94.680000  134.520004  46.360001  175.710007  92.019997  91.589996\n",
       "2018-12-28  94.419998  133.199997  46.750000  175.559998  91.180000  92.129997\n",
       "\n",
       "[754 rows x 6 columns]"
      ]
     },
     "execution_count": 217,
     "metadata": {},
     "output_type": "execute_result"
    }
   ],
   "source": [
    "import matplotlib.pyplot as plt\n",
    "plt.style.use(\"seaborn\")\n",
    "close = stocks.loc[:,\"Close\"]\n",
    "close"
   ]
  },
  {
   "cell_type": "code",
   "execution_count": 244,
   "metadata": {
    "scrolled": true
   },
   "outputs": [
    {
     "data": {
      "text/plain": [
       "Date\n",
       "2018-12-14    96.639999\n",
       "2018-12-13    96.489998\n",
       "2018-11-30    94.510002\n",
       "2017-09-20    94.400002\n",
       "2017-09-19    94.169998\n",
       "                ...    \n",
       "2018-05-07    71.980003\n",
       "2018-05-01    71.959999\n",
       "2018-05-08    71.440002\n",
       "2018-05-03    71.360001\n",
       "2018-05-02    70.940002\n",
       "Name: PG, Length: 754, dtype: float64"
      ]
     },
     "execution_count": 244,
     "metadata": {},
     "output_type": "execute_result"
    }
   ],
   "source": [
    "stocks.Close.PG.sort_values(ascending = False)"
   ]
  },
  {
   "cell_type": "code",
   "execution_count": 258,
   "metadata": {},
   "outputs": [
    {
     "ename": "AttributeError",
     "evalue": "'MultiIndex' object has no attribute 'idx_max'",
     "output_type": "error",
     "traceback": [
      "\u001b[0;31m---------------------------------------------------------------------------\u001b[0m",
      "\u001b[0;31mAttributeError\u001b[0m                            Traceback (most recent call last)",
      "\u001b[0;32m/tmp/ipykernel_13685/2618636047.py\u001b[0m in \u001b[0;36m<module>\u001b[0;34m\u001b[0m\n\u001b[0;32m----> 1\u001b[0;31m \u001b[0mstocks\u001b[0m\u001b[0;34m.\u001b[0m\u001b[0mcolumns\u001b[0m\u001b[0;34m.\u001b[0m\u001b[0midx_max\u001b[0m\u001b[0;34m(\u001b[0m\u001b[0;34m)\u001b[0m\u001b[0;34m\u001b[0m\u001b[0;34m\u001b[0m\u001b[0m\n\u001b[0m",
      "\u001b[0;31mAttributeError\u001b[0m: 'MultiIndex' object has no attribute 'idx_max'"
     ]
    }
   ],
   "source": [
    "stocks.columns.idx_max()"
   ]
  },
  {
   "cell_type": "markdown",
   "metadata": {},
   "source": [
    "-__Visualize__ the Adjusted Close of the six stocks __over time__!"
   ]
  },
  {
   "cell_type": "code",
   "execution_count": 216,
   "metadata": {},
   "outputs": [
    {
     "data": {
      "image/png": "[encoded data removed]",
      "text/plain": [
       "<Figure size 1080x576 with 1 Axes>"
      ]
     },
     "metadata": {},
     "output_type": "display_data"
    }
   ],
   "source": [
    "close.plot(figsize=(15,8), fontsize= 13)\n",
    "plt.legend(fontsize = 13)\n",
    "plt.show()"
   ]
  },
  {
   "cell_type": "markdown",
   "metadata": {},
   "source": [
    "- __Visualize__ the __normalized__ Adjusted Close of the six stocks __over time__, each starting at a __Base Value of 100__!"
   ]
  },
  {
   "cell_type": "markdown",
   "metadata": {},
   "source": [
    "- Calculate __monthly returns__ for all six stocks and create a new __returns__ DataFrame!"
   ]
  },
  {
   "cell_type": "markdown",
   "metadata": {},
   "source": [
    "- Calculate the __annualized mean return__ and the __annualized standard deviation__ of returns for all six stocks!"
   ]
  },
  {
   "cell_type": "markdown",
   "metadata": {},
   "source": [
    "- __Visualize risk/return__ of all six stocks in a (total) risk / return framework. (annualized std on the x-axis, annualized mean returns on the y-axis). <br>\n",
    "Identify the __best performing__ stock and the __worst performing__ stock (in terms of __risk / return__)"
   ]
  },
  {
   "cell_type": "markdown",
   "metadata": {},
   "source": [
    "- __Visualize__ the __correlation matrix__ of monthly returns with a __Seaborn Heatmap__. Which stocks-pair shows the __highest (positive) correlation__ of monthly returns?"
   ]
  },
  {
   "cell_type": "markdown",
   "metadata": {},
   "source": [
    "__Ticker Symbols__:\n",
    "- AXP : American Express\n",
    "- FB : Facebook\n",
    "- INTC : Intel\n",
    "- MCD : McDonalds \n",
    "- PG : Procter & Gamble\n",
    "- WMT: Walmart"
   ]
  },
  {
   "cell_type": "markdown",
   "metadata": {},
   "source": [
    "------------------------"
   ]
  },
  {
   "cell_type": "markdown",
   "metadata": {},
   "source": [
    "## Option 2: Guided and Instructed"
   ]
  },
  {
   "cell_type": "markdown",
   "metadata": {},
   "source": [
    "# STOP HERE, IF YOU WANT TO DO THE EXERCISE ON YOUR OWN!"
   ]
  },
  {
   "cell_type": "markdown",
   "metadata": {},
   "source": [
    "+++++++++++++++++++++++++++++++++++++++++++++++++++++++++++++++++++++++++++++++++++++++++++++++++++++++++++++++++++++++++"
   ]
  },
  {
   "cell_type": "code",
   "execution_count": null,
   "metadata": {},
   "outputs": [],
   "source": [
    "#run the cell!\n",
    "import pandas as pd\n",
    "import numpy as np\n",
    "import matplotlib.pyplot as plt\n",
    "plt.style.use(\"seaborn\")"
   ]
  },
  {
   "cell_type": "markdown",
   "metadata": {},
   "source": [
    "1. __Import__ daily stock price data (__us_stocks.csv__) and __inspect__! Handle the __MultiIndex__! __Fill in the gaps__!"
   ]
  },
  {
   "cell_type": "code",
   "execution_count": null,
   "metadata": {},
   "outputs": [],
   "source": [
    "stocks = pd.read_csv(\"us_stocks.csv\", header = ---, index_col= ---, parse_dates= ---)"
   ]
  },
  {
   "cell_type": "code",
   "execution_count": null,
   "metadata": {},
   "outputs": [],
   "source": [
    "# run the cell!\n",
    "stocks.head()"
   ]
  },
  {
   "cell_type": "markdown",
   "metadata": {},
   "source": [
    "Ticker Symbols:\n",
    "- AXP : American Express\n",
    "- FB : Facebook\n",
    "- INTC : Intel\n",
    "- MCD : McDonalds \n",
    "- PG : Procter & Gamble\n",
    "- WMT: Walmart"
   ]
  },
  {
   "cell_type": "markdown",
   "metadata": {},
   "source": [
    "2. __Select__ the Adjusted Close (__Adj Close__) for all six stocks from __31-12-2015__ (incl.) until __31-12-2018__ (incl.)! __Overwrite__ stocks! <br>\n",
    "__How many Timestamps__ / Days are in the DataFrame now?"
   ]
  },
  {
   "cell_type": "code",
   "execution_count": null,
   "metadata": {
    "scrolled": true
   },
   "outputs": [],
   "source": []
  },
  {
   "cell_type": "code",
   "execution_count": null,
   "metadata": {},
   "outputs": [],
   "source": [
    "# run the cell!\n",
    "stocks.head()"
   ]
  },
  {
   "cell_type": "code",
   "execution_count": null,
   "metadata": {},
   "outputs": [],
   "source": [
    "# run the cell!\n",
    "stocks.info()"
   ]
  },
  {
   "cell_type": "markdown",
   "metadata": {},
   "source": [
    "We have ... 754 Days."
   ]
  },
  {
   "cell_type": "markdown",
   "metadata": {},
   "source": [
    "3. __Plot__ stocks (figsize (12, 8)!"
   ]
  },
  {
   "cell_type": "code",
   "execution_count": null,
   "metadata": {},
   "outputs": [],
   "source": []
  },
  {
   "cell_type": "markdown",
   "metadata": {},
   "source": [
    "4. __Bring__ the six stocks to the __same Base Value__ (100) and __plot__ again! __Fill in the gaps!__"
   ]
  },
  {
   "cell_type": "code",
   "execution_count": null,
   "metadata": {},
   "outputs": [],
   "source": [
    "stocks.---(stocks.iloc[0]).---(figsize = (12,8))\n",
    "plt.show()"
   ]
  },
  {
   "cell_type": "markdown",
   "metadata": {},
   "source": [
    "Still hard to compare performance, right?"
   ]
  },
  {
   "cell_type": "markdown",
   "metadata": {},
   "source": [
    "5. __Resample__ stocks to __monthly__ frequency (__last__ trading price of each month, index should show last calender day)!<br> __Save__ the resampled Dataframe in the variable __stocks_m__!"
   ]
  },
  {
   "cell_type": "code",
   "execution_count": null,
   "metadata": {},
   "outputs": [],
   "source": []
  },
  {
   "cell_type": "code",
   "execution_count": null,
   "metadata": {
    "scrolled": true
   },
   "outputs": [],
   "source": [
    "# run the cell!\n",
    "stocks_m.head()"
   ]
  },
  {
   "cell_type": "markdown",
   "metadata": {},
   "source": [
    "6. Calculate __monthly returns__ and __save__ the result in the variable __ret__! (drop NaN Values!)"
   ]
  },
  {
   "cell_type": "code",
   "execution_count": null,
   "metadata": {},
   "outputs": [],
   "source": []
  },
  {
   "cell_type": "code",
   "execution_count": null,
   "metadata": {
    "scrolled": true
   },
   "outputs": [],
   "source": [
    "#run the cell!\n",
    "ret"
   ]
  },
  {
   "cell_type": "markdown",
   "metadata": {},
   "source": [
    "7. Calculate __mean__ and  __standard deviation__ of monthly returns! __Save__ the result in the variable __summary__!<br>\n",
    "__Fill in the gaps!__"
   ]
  },
  {
   "cell_type": "code",
   "execution_count": null,
   "metadata": {},
   "outputs": [],
   "source": [
    "summary = ret.describe().T.loc[:, [---, ---]]"
   ]
  },
  {
   "cell_type": "code",
   "execution_count": null,
   "metadata": {},
   "outputs": [],
   "source": [
    "#run the cell!\n",
    "summary"
   ]
  },
  {
   "cell_type": "markdown",
   "metadata": {},
   "source": [
    "8. __Annualize__ mean and standard deviation of returns! __Fill in the gaps!__"
   ]
  },
  {
   "cell_type": "code",
   "execution_count": null,
   "metadata": {},
   "outputs": [],
   "source": [
    "summary[\"mean\"] = summary[\"mean\"]*---\n",
    "summary[\"std\"] = summary[\"std\"]*---(---)"
   ]
  },
  {
   "cell_type": "code",
   "execution_count": null,
   "metadata": {},
   "outputs": [],
   "source": [
    "#run the cell!\n",
    "summary"
   ]
  },
  {
   "cell_type": "markdown",
   "metadata": {},
   "source": [
    "9. __Plot__ and __compare__ the performance of the six stocks in a __(total) risk / return__ framework! __Fill in the gaps__! <br>\n",
    "Can you identify the __best performing__ stock and the __worst performing__ stock (in terms of __risk / return__)?"
   ]
  },
  {
   "cell_type": "code",
   "execution_count": null,
   "metadata": {},
   "outputs": [],
   "source": [
    "summary.plot(kind = \"---\", x = \"---\", y = \"---\", figsize = (12, 8), s = 50, fontsize = 15, xlim = (0.1, 0.3), ylim = (0, 0.25))\n",
    "for i in summary.index:\n",
    "    plt.annotate(i, xy=(summary.loc[i, \"std\"]+0.002, summary.loc[i, \"mean\"]+0.002), size = 15)\n",
    "plt.xlabel(\"ann. Risk(std)\", fontsize = 15)\n",
    "plt.ylabel(\"ann. Return\", fontsize = 15)\n",
    "plt.title(\"Risk/Return\", fontsize = 20)\n",
    "plt.show()"
   ]
  },
  {
   "cell_type": "markdown",
   "metadata": {},
   "source": [
    "In a (total) risk / return framework, McDonalds (most likely) showed the best performance (upper left) and facebook the worst performance (lower right)!"
   ]
  },
  {
   "cell_type": "markdown",
   "metadata": {},
   "source": [
    "10. Prepare the __correlation matrix__ of monthly returns. Which stocks-pair shows the __highest (positive) correlation__ of monthly returns? "
   ]
  },
  {
   "cell_type": "code",
   "execution_count": null,
   "metadata": {},
   "outputs": [],
   "source": []
  },
  {
   "cell_type": "markdown",
   "metadata": {},
   "source": [
    "The highest positive correlation of returns is between ... Walmart and McDonalds."
   ]
  },
  {
   "cell_type": "markdown",
   "metadata": {},
   "source": [
    "11. __Visualize__ the correlation matrix with a __Seaborn Heatmap__! __Fill in the gaps!__"
   ]
  },
  {
   "cell_type": "code",
   "execution_count": null,
   "metadata": {},
   "outputs": [],
   "source": [
    "# run the cell!\n",
    "import seaborn as sns"
   ]
  },
  {
   "cell_type": "code",
   "execution_count": null,
   "metadata": {
    "scrolled": true
   },
   "outputs": [],
   "source": [
    "plt.figure(figsize=(12,8))\n",
    "sns.set(font_scale=1.0)\n",
    "sns.---(---, cmap = \"RdYlGn\", annot = True, vmin = -0.5, vmax = 0.6, center = 0)\n",
    "plt.show()"
   ]
  },
  {
   "cell_type": "code",
   "execution_count": null,
   "metadata": {},
   "outputs": [],
   "source": []
  },
  {
   "cell_type": "markdown",
   "metadata": {},
   "source": [
    "# Solutions (Stop here if you want to code on your own!)"
   ]
  },
  {
   "cell_type": "markdown",
   "metadata": {},
   "source": [
    "# ++++++++++++++++++++++++++++++++++++++++++++++++++++++++++"
   ]
  },
  {
   "cell_type": "code",
   "execution_count": null,
   "metadata": {},
   "outputs": [],
   "source": []
  },
  {
   "cell_type": "code",
   "execution_count": null,
   "metadata": {},
   "outputs": [],
   "source": [
    "#run the cell!\n",
    "import pandas as pd\n",
    "import numpy as np\n",
    "import matplotlib.pyplot as plt\n",
    "plt.style.use(\"seaborn\")"
   ]
  },
  {
   "cell_type": "markdown",
   "metadata": {},
   "source": [
    "1. __Import__ daily stock price data (__us_stocks.csv__) and __inspect__! Handle the __MultiIndex__! __Fill in the gaps__!"
   ]
  },
  {
   "cell_type": "code",
   "execution_count": null,
   "metadata": {},
   "outputs": [],
   "source": [
    "stocks = pd.read_csv(\"us_stocks.csv\", header = [0,1], index_col= [0], parse_dates= [0])"
   ]
  },
  {
   "cell_type": "code",
   "execution_count": null,
   "metadata": {},
   "outputs": [],
   "source": [
    "# run the cell!\n",
    "stocks.head()"
   ]
  },
  {
   "cell_type": "markdown",
   "metadata": {},
   "source": [
    "Ticker Symbols:\n",
    "- AXP : American Express\n",
    "- FB : Facebook\n",
    "- INTC : Intel\n",
    "- MCD : McDonalds \n",
    "- PG : Procter & Gamble\n",
    "- WMT: Walmart"
   ]
  },
  {
   "cell_type": "markdown",
   "metadata": {},
   "source": [
    "2. __Select__ the Adjusted Close (__Adj Close__) for all six stocks from __31-12-2015__ (incl.) until __31-12-2018__ (incl.)! __Overwrite__ stocks! <br>\n",
    "__How many Timestamps__ / Days are in the DataFrame now?"
   ]
  },
  {
   "cell_type": "code",
   "execution_count": null,
   "metadata": {
    "scrolled": true
   },
   "outputs": [],
   "source": [
    "stocks = stocks.loc[\"31-12-2015\":\"31-12-2018\", \"Adj Close\"]"
   ]
  },
  {
   "cell_type": "code",
   "execution_count": null,
   "metadata": {},
   "outputs": [],
   "source": [
    "# run the cell!\n",
    "stocks.head()"
   ]
  },
  {
   "cell_type": "code",
   "execution_count": null,
   "metadata": {},
   "outputs": [],
   "source": [
    "# run the cell!\n",
    "stocks.info()"
   ]
  },
  {
   "cell_type": "markdown",
   "metadata": {},
   "source": [
    "We have ... 754 Days."
   ]
  },
  {
   "cell_type": "markdown",
   "metadata": {},
   "source": [
    "3. __Plot__ stocks (figsize (12, 8)!"
   ]
  },
  {
   "cell_type": "code",
   "execution_count": null,
   "metadata": {},
   "outputs": [],
   "source": [
    "stocks.plot(figsize = (12,8))\n",
    "plt.show()"
   ]
  },
  {
   "cell_type": "markdown",
   "metadata": {},
   "source": [
    "4. __Bring__ the six stocks to the __same Base Value__ (100) and __plot__ again! __Fill in the gaps!__"
   ]
  },
  {
   "cell_type": "code",
   "execution_count": null,
   "metadata": {},
   "outputs": [],
   "source": [
    "stocks.div(stocks.iloc[0]).mul(100).plot(figsize = (12,8))\n",
    "plt.show()"
   ]
  },
  {
   "cell_type": "markdown",
   "metadata": {},
   "source": [
    "Still hard to compare performance, right?"
   ]
  },
  {
   "cell_type": "markdown",
   "metadata": {},
   "source": [
    "5. __Resample__ stocks to __monthly__ frequency (__last__ trading price of each month, index should show last calender day)!<br> __Save__ the resampled Dataframe in the variable __stocks_m__!"
   ]
  },
  {
   "cell_type": "code",
   "execution_count": null,
   "metadata": {},
   "outputs": [],
   "source": [
    "stocks_m = stocks.resample(\"M\").last()"
   ]
  },
  {
   "cell_type": "code",
   "execution_count": null,
   "metadata": {
    "scrolled": true
   },
   "outputs": [],
   "source": [
    "# run the cell!\n",
    "stocks_m.head()"
   ]
  },
  {
   "cell_type": "markdown",
   "metadata": {},
   "source": [
    "6. Calculate __monthly returns__ and __save__ the result in the variable __ret__! (drop NaN Values!)"
   ]
  },
  {
   "cell_type": "code",
   "execution_count": null,
   "metadata": {},
   "outputs": [],
   "source": [
    "ret = stocks_m.pct_change().dropna()"
   ]
  },
  {
   "cell_type": "code",
   "execution_count": null,
   "metadata": {
    "scrolled": true
   },
   "outputs": [],
   "source": [
    "#run the cell!\n",
    "ret"
   ]
  },
  {
   "cell_type": "markdown",
   "metadata": {},
   "source": [
    "7. Calculate __mean__ and  __standard deviation__ of monthly returns! __Save__ the result in the variable __summary__!<br>\n",
    "__Fill in the gaps!__"
   ]
  },
  {
   "cell_type": "code",
   "execution_count": null,
   "metadata": {},
   "outputs": [],
   "source": [
    "summary = ret.describe().T.loc[:, [\"mean\", \"std\"]]"
   ]
  },
  {
   "cell_type": "code",
   "execution_count": null,
   "metadata": {},
   "outputs": [],
   "source": [
    "#run the cell!\n",
    "summary"
   ]
  },
  {
   "cell_type": "markdown",
   "metadata": {},
   "source": [
    "8. __Annualize__ mean and standard deviation of returns! __Fill in the gaps!__"
   ]
  },
  {
   "cell_type": "code",
   "execution_count": null,
   "metadata": {},
   "outputs": [],
   "source": [
    "summary[\"mean\"] = summary[\"mean\"]*12\n",
    "summary[\"std\"] = summary[\"std\"]*np.sqrt(12)"
   ]
  },
  {
   "cell_type": "code",
   "execution_count": null,
   "metadata": {},
   "outputs": [],
   "source": [
    "#run the cell!\n",
    "summary"
   ]
  },
  {
   "cell_type": "markdown",
   "metadata": {},
   "source": [
    "9. __Plot__ and __compare__ the performance of the six stocks in a __(total) risk / return__ framework! __Fill in the gaps__! <br>\n",
    "Can you identify the __best performing__ stock and the __worst performing__ stock (in terms of __risk / return__)?"
   ]
  },
  {
   "cell_type": "code",
   "execution_count": null,
   "metadata": {},
   "outputs": [],
   "source": [
    "summary.plot(kind = \"scatter\", x = \"std\", y = \"mean\", figsize = (12, 8), s = 50, fontsize = 15, xlim = (0.1, 0.3), ylim = (0, 0.25))\n",
    "for i in summary.index:\n",
    "    plt.annotate(i, xy=(summary.loc[i, \"std\"]+0.002, summary.loc[i, \"mean\"]+0.002), size = 15)\n",
    "plt.xlabel(\"ann. Risk(std)\", fontsize = 15)\n",
    "plt.ylabel(\"ann. Return\", fontsize = 15)\n",
    "plt.title(\"Risk/Return\", fontsize = 20)\n",
    "plt.show()"
   ]
  },
  {
   "cell_type": "markdown",
   "metadata": {},
   "source": [
    "In a (total) risk / return framework, McDonalds (most likely) showed the best performance (upper left) and facebook the worst performance (lower right)!"
   ]
  },
  {
   "cell_type": "markdown",
   "metadata": {},
   "source": [
    "10. Prepare the __correlation matrix__ of monthly returns. Which stocks-pair shows the __highest (positive) correlation__ of monthly returns? "
   ]
  },
  {
   "cell_type": "code",
   "execution_count": null,
   "metadata": {},
   "outputs": [],
   "source": [
    "ret.corr()"
   ]
  },
  {
   "cell_type": "markdown",
   "metadata": {},
   "source": [
    "The highest positive correlation of returns is between ... Walmart and McDonalds."
   ]
  },
  {
   "cell_type": "markdown",
   "metadata": {},
   "source": [
    "11. __Visualize__ the correlation matrix with a __Seaborn Heatmap__! __Fill in the gaps!__"
   ]
  },
  {
   "cell_type": "code",
   "execution_count": null,
   "metadata": {},
   "outputs": [],
   "source": [
    "# run the cell!\n",
    "import seaborn as sns"
   ]
  },
  {
   "cell_type": "code",
   "execution_count": null,
   "metadata": {
    "scrolled": false
   },
   "outputs": [],
   "source": [
    "plt.figure(figsize=(12,8))\n",
    "sns.set(font_scale=1.0)\n",
    "sns.heatmap(ret.corr(), cmap = \"RdYlGn\", annot = True, vmin = -0.5, vmax = 0.6, center = 0)\n",
    "plt.show()"
   ]
  },
  {
   "cell_type": "markdown",
   "metadata": {},
   "source": [
    "# Well Done!"
   ]
  },
  {
   "cell_type": "markdown",
   "metadata": {},
   "source": [
    "-------------------"
   ]
  },
  {
   "cell_type": "code",
   "execution_count": null,
   "metadata": {},
   "outputs": [],
   "source": []
  }
 ],
 "metadata": {
  "kernelspec": {
   "display_name": "Python 3 (ipykernel)",
   "language": "python",
   "name": "python3"
  },
  "language_info": {
   "codemirror_mode": {
    "name": "ipython",
    "version": 3
   },
   "file_extension": ".py",
   "mimetype": "text/x-python",
   "name": "python",
   "nbconvert_exporter": "python",
   "pygments_lexer": "ipython3",
   "version": "3.7.13"
  }
 },
 "nbformat": 4,
 "nbformat_minor": 2
}
