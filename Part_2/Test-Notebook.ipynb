{
 "cells": [
  {
   "cell_type": "markdown",
   "id": "2d97c92d",
   "metadata": {},
   "source": [
    "# Calculation Steps"
   ]
  },
  {
   "cell_type": "markdown",
   "id": "061e0b46",
   "metadata": {},
   "source": [
    "## Set X"
   ]
  },
  {
   "cell_type": "code",
   "execution_count": 38,
   "id": "31e16a05",
   "metadata": {},
   "outputs": [],
   "source": [
    "x = -2"
   ]
  },
  {
   "cell_type": "code",
   "execution_count": 39,
   "id": "04f6eeed",
   "metadata": {},
   "outputs": [],
   "source": [
    "x = x + 3"
   ]
  },
  {
   "cell_type": "code",
   "execution_count": 40,
   "id": "209a9442",
   "metadata": {},
   "outputs": [],
   "source": [
    "x = 1 + 1 - x"
   ]
  },
  {
   "cell_type": "code",
   "execution_count": 41,
   "id": "ae010e04",
   "metadata": {},
   "outputs": [
    {
     "data": {
      "text/plain": [
       "1"
      ]
     },
     "execution_count": 41,
     "metadata": {},
     "output_type": "execute_result"
    }
   ],
   "source": [
    "x"
   ]
  },
  {
   "cell_type": "code",
   "execution_count": null,
   "id": "34199650",
   "metadata": {},
   "outputs": [],
   "source": []
  }
 ],
 "metadata": {
  "kernelspec": {
   "display_name": "Python 3 (ipykernel)",
   "language": "python",
   "name": "python3"
  },
  "language_info": {
   "codemirror_mode": {
    "name": "ipython",
    "version": 3
   },
   "file_extension": ".py",
   "mimetype": "text/x-python",
   "name": "python",
   "nbconvert_exporter": "python",
   "pygments_lexer": "ipython3",
   "version": "3.7.13"
  }
 },
 "nbformat": 4,
 "nbformat_minor": 5
}
